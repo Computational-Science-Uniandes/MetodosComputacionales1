{
 "cells": [
  {
   "cell_type": "markdown",
   "metadata": {},
   "source": [
    "# Álgebra Lineal"
   ]
  },
  {
   "cell_type": "code",
   "execution_count": 1,
   "metadata": {},
   "outputs": [],
   "source": [
    "# %pylab inline\n",
    "# from IPython.display import Image\n",
    "# from IPython.display import HTML\n",
    "import numpy as np\n",
    "import matplotlib.pylab as plt"
   ]
  },
  {
   "cell_type": "code",
   "execution_count": null,
   "metadata": {},
   "outputs": [],
   "source": [
    "help(np.linalg)"
   ]
  },
  {
   "cell_type": "markdown",
   "metadata": {},
   "source": [
    "## Matrices en NumPy"
   ]
  },
  {
   "cell_type": "code",
   "execution_count": 14,
   "metadata": {},
   "outputs": [
    {
     "name": "stdout",
     "output_type": "stream",
     "text": [
      "[[0. 0. 0.]\n",
      " [0. 1. 2.]\n",
      " [0. 2. 4.]]\n",
      "[[0.94956648 0.21535831 0.13106458]\n",
      " [0.11198801 0.1421754  0.60893645]\n",
      " [0.34690686 0.79056813 0.26675026]]\n",
      "[[0.79933325 0.02598844 0.7111853 ]\n",
      " [0.01324532 0.74904584 0.25523338]\n",
      " [0.90442829 0.67556887 0.54421147]]\n",
      "[[0.88041107 0.27453414 0.8016112 ]\n",
      " [0.64213825 0.52078479 0.44732233]\n",
      " [0.529022   0.7813955  0.59366299]] [[0.88041107 0.27453414 0.8016112 ]\n",
      " [0.64213825 0.52078479 0.44732233]\n",
      " [0.529022   0.7813955  0.59366299]]\n",
      "[[1.5986665  0.05197688 1.4223706 ]\n",
      " [0.02649064 1.49809168 0.51046677]\n",
      " [1.80885659 1.35113774 1.08842293]] [[0.75902006 0.00559683 0.0932112 ]\n",
      " [0.00148332 0.10649589 0.15542091]\n",
      " [0.31375238 0.53408321 0.14516855]]\n"
     ]
    }
   ],
   "source": [
    "A = np.zeros((3, 3))\n",
    "B = np.eye(3)\n",
    "C = np.random.rand(3, 3)\n",
    "D = np.random.rand(3, 3)\n",
    "\n",
    "for i in range(3):\n",
    "    for j in range(3):\n",
    "        A[i, j] = i*j\n",
    "print(A)\n",
    "# print(B)\n",
    "print(C)\n",
    "print(D)\n",
    "\n",
    "print(np.dot(C, D), C @ D)\n",
    "print(2 * D, C * D)"
   ]
  },
  {
   "cell_type": "markdown",
   "metadata": {},
   "source": [
    "Definición del producto de dos matrices\n",
    "\n",
    "$$(AB)_{i,j}=\\sum A_{i,k}B_{k,j}$$"
   ]
  },
  {
   "cell_type": "markdown",
   "metadata": {},
   "source": [
    "## Ejemplo: matrices de Pauli"
   ]
  },
  {
   "cell_type": "markdown",
   "metadata": {},
   "source": [
    "$$\\sigma_x = \\begin{bmatrix}0 & 1\\\\ 1 & 0 \\end{bmatrix}, \\quad \\sigma_y = \\begin{bmatrix}0 & -i\\\\ i & 0 \\end{bmatrix}, \\quad \\sigma_z = \\begin{bmatrix}1 & 0\\\\ 0 & -1 \\end{bmatrix}$$"
   ]
  },
  {
   "cell_type": "code",
   "execution_count": 15,
   "metadata": {},
   "outputs": [
    {
     "data": {
      "text/plain": [
       "(array([[0, 1],\n",
       "        [1, 0]]),\n",
       " array([[ 0.+0.j, -0.-1.j],\n",
       "        [ 0.+1.j,  0.+0.j]]),\n",
       " array([[ 1,  0],\n",
       "        [ 0, -1]]))"
      ]
     },
     "execution_count": 15,
     "metadata": {},
     "output_type": "execute_result"
    }
   ],
   "source": [
    "sigmax=np.array([[0,1],[1,0]])\n",
    "sigmay=np.array([[0,-1j],[1j,0]])\n",
    "sigmaz=np.array([[1,0],[0,-1]])\n",
    "sigmas=[sigmax,sigmay,sigmaz]\n",
    "\n",
    "sigmax, sigmay, sigmaz"
   ]
  },
  {
   "cell_type": "markdown",
   "metadata": {},
   "source": [
    "\"The matrices are involutory:...\""
   ]
  },
  {
   "cell_type": "code",
   "execution_count": 16,
   "metadata": {},
   "outputs": [
    {
     "name": "stdout",
     "output_type": "stream",
     "text": [
      "********************\n",
      "[[0 1]\n",
      " [1 0]]\n",
      "********************\n",
      "********************\n",
      "[[ 0.+0.j -1.+0.j]\n",
      " [-1.+0.j  0.+0.j]]\n",
      "********************\n",
      "********************\n",
      "[[1 0]\n",
      " [0 1]]\n",
      "********************\n"
     ]
    }
   ],
   "source": [
    "for pauli in sigmas:\n",
    "    print(\"*\"*20)\n",
    "    print(pauli*pauli)\n",
    "    print(\"*\"*20)"
   ]
  },
  {
   "cell_type": "markdown",
   "metadata": {},
   "source": [
    "## Eigenvectors and Eigenvalues\n",
    "\n",
    "Valores y vectores propios se calculan con la función **eig**."
   ]
  },
  {
   "cell_type": "code",
   "execution_count": 18,
   "metadata": {},
   "outputs": [
    {
     "name": "stdout",
     "output_type": "stream",
     "text": [
      "********************** σx **********************\n",
      "(array([ 1., -1.]), array([[ 0.70710678, -0.70710678],\n",
      "       [ 0.70710678,  0.70710678]]))\n",
      "************************************************\n",
      "********************** σy **********************\n",
      "(array([ 1.+0.j, -1.+0.j]), array([[-0.        -0.70710678j,  0.70710678+0.j        ],\n",
      "       [ 0.70710678+0.j        ,  0.        -0.70710678j]]))\n",
      "************************************************\n",
      "********************** σz **********************\n",
      "(array([ 1., -1.]), array([[1., 0.],\n",
      "       [0., 1.]]))\n",
      "************************************************\n"
     ]
    }
   ],
   "source": [
    "for i in range(3):\n",
    "    print(\"*\"*22,\"σ\"+[\"x\",\"y\",\"z\"][i],\"*\"*22)\n",
    "    print(np.linalg.eig(sigmas[i]))\n",
    "    print(\"*\"*48)"
   ]
  },
  {
   "cell_type": "code",
   "execution_count": 21,
   "metadata": {},
   "outputs": [
    {
     "data": {
      "text/plain": [
       "(array([ 1., -1.]),\n",
       " array([[ 0.70710678, -0.70710678],\n",
       "        [ 0.70710678,  0.70710678]]))"
      ]
     },
     "execution_count": 21,
     "metadata": {},
     "output_type": "execute_result"
    }
   ],
   "source": [
    "np.linalg.eig(sigmax)"
   ]
  },
  {
   "cell_type": "code",
   "execution_count": 26,
   "metadata": {},
   "outputs": [
    {
     "name": "stdout",
     "output_type": "stream",
     "text": [
      "[[0 1]\n",
      " [1 0]]\n",
      "[[-0.70710678]\n",
      " [ 0.70710678]] [[-0.70710678  0.70710678]]\n"
     ]
    }
   ],
   "source": [
    "lambda_1 = -1 \n",
    "vector_1 = np.array([[-0.70710678], [0.70710678]])\n",
    "\n",
    "print(sigmax)\n",
    "sigmax @ vector_1  # sigma @ vector_1 = lambda_1 * vector_1\n",
    "\n",
    "print(vector_1, vector_1.T)"
   ]
  },
  {
   "cell_type": "code",
   "execution_count": null,
   "metadata": {},
   "outputs": [],
   "source": [
    "help(np.linalg)"
   ]
  },
  {
   "cell_type": "markdown",
   "metadata": {},
   "source": [
    "Los determinantes se calculan con la función **det** que admite matrices o arrays cuadrados"
   ]
  },
  {
   "cell_type": "code",
   "execution_count": 27,
   "metadata": {},
   "outputs": [
    {
     "name": "stdout",
     "output_type": "stream",
     "text": [
      "-1.0\n",
      "(-1+0j)\n",
      "-1.0\n"
     ]
    }
   ],
   "source": [
    "for pauli in sigmas:\n",
    "    print(np.linalg.det(pauli))"
   ]
  },
  {
   "cell_type": "markdown",
   "metadata": {},
   "source": [
    "La traza se calcula con la función **trace**"
   ]
  },
  {
   "cell_type": "code",
   "execution_count": 28,
   "metadata": {},
   "outputs": [
    {
     "name": "stdout",
     "output_type": "stream",
     "text": [
      "0\n",
      "0j\n",
      "0\n"
     ]
    }
   ],
   "source": [
    "for pauli in sigmas:\n",
    "    print(np.trace(pauli))"
   ]
  },
  {
   "cell_type": "markdown",
   "metadata": {},
   "source": [
    "## Ejemplo: Density Matrices\n",
    "\n",
    "Density Matrices are Hermitian, Trace 1, and Positive Definite\n",
    "\n",
    "$$\\rho = \\frac{1}{4}\\begin{bmatrix}\n",
    "2 & 1 & 1\\\\\n",
    "1 & 1 & 0\\\\\n",
    "1 & 0 & 1 \n",
    "\\end{bmatrix}$$"
   ]
  },
  {
   "cell_type": "code",
   "execution_count": 29,
   "metadata": {},
   "outputs": [
    {
     "data": {
      "text/plain": [
       "array([[0.5 , 0.25, 0.25],\n",
       "       [0.25, 0.25, 0.  ],\n",
       "       [0.25, 0.  , 0.25]])"
      ]
     },
     "execution_count": 29,
     "metadata": {},
     "output_type": "execute_result"
    }
   ],
   "source": [
    "rho = (0.25)*np.array([[2, 1, 1],[1, 1, 0],[1, 0, 1]])\n",
    "\n",
    "rho"
   ]
  },
  {
   "cell_type": "code",
   "execution_count": 30,
   "metadata": {},
   "outputs": [
    {
     "data": {
      "text/plain": [
       "array([ 7.5000000e-01, -7.2858386e-17,  2.5000000e-01])"
      ]
     },
     "execution_count": 30,
     "metadata": {},
     "output_type": "execute_result"
    }
   ],
   "source": [
    "D, U = np.linalg.eig(rho)\n",
    "\n",
    "D"
   ]
  },
  {
   "cell_type": "code",
   "execution_count": 31,
   "metadata": {},
   "outputs": [
    {
     "data": {
      "text/plain": [
       "array([[-8.16496581e-01, -5.77350269e-01, -1.57009246e-16],\n",
       "       [-4.08248290e-01,  5.77350269e-01, -7.07106781e-01],\n",
       "       [-4.08248290e-01,  5.77350269e-01,  7.07106781e-01]])"
      ]
     },
     "execution_count": 31,
     "metadata": {},
     "output_type": "execute_result"
    }
   ],
   "source": [
    "U"
   ]
  },
  {
   "cell_type": "code",
   "execution_count": 32,
   "metadata": {},
   "outputs": [
    {
     "data": {
      "text/plain": [
       "(array([-0.61237244, -0.30618622, -0.30618622]),\n",
       " array([-0.61237244, -0.30618622, -0.30618622]))"
      ]
     },
     "execution_count": 32,
     "metadata": {},
     "output_type": "execute_result"
    }
   ],
   "source": [
    "rho @ U[:, 0], D[0] * U[:, 0]"
   ]
  },
  {
   "cell_type": "markdown",
   "metadata": {},
   "source": [
    "Unitary Matrix\n",
    "\n",
    "$$ UU^{\\text{T}}=I$$"
   ]
  },
  {
   "cell_type": "code",
   "execution_count": 33,
   "metadata": {},
   "outputs": [
    {
     "data": {
      "text/plain": [
       "array([[ 1.00000000e+00,  1.11022302e-16, -1.11022302e-16],\n",
       "       [ 1.11022302e-16,  1.00000000e+00,  0.00000000e+00],\n",
       "       [-1.11022302e-16,  0.00000000e+00,  1.00000000e+00]])"
      ]
     },
     "execution_count": 33,
     "metadata": {},
     "output_type": "execute_result"
    }
   ],
   "source": [
    "U @ U.T"
   ]
  },
  {
   "cell_type": "markdown",
   "metadata": {},
   "source": [
    "Spectral Decomposition\n",
    "\n",
    "$$ \\rho = UDU^{\\text{T}}$$"
   ]
  },
  {
   "cell_type": "code",
   "execution_count": 34,
   "metadata": {},
   "outputs": [
    {
     "data": {
      "text/plain": [
       "array([[ 5.00000000e-01,  2.50000000e-01,  2.50000000e-01],\n",
       "       [ 2.50000000e-01,  2.50000000e-01, -4.16333634e-17],\n",
       "       [ 2.50000000e-01, -6.93889390e-17,  2.50000000e-01]])"
      ]
     },
     "execution_count": 34,
     "metadata": {},
     "output_type": "execute_result"
    }
   ],
   "source": [
    "U @ np.diag(D) @ U.T"
   ]
  },
  {
   "cell_type": "markdown",
   "metadata": {},
   "source": [
    "## Solución de sistemas de ecuaciones lineales"
   ]
  },
  {
   "cell_type": "markdown",
   "metadata": {},
   "source": [
    "Para resolver sistemas de ecuaciones lineales usar la función **solve**.\n",
    "\n",
    "$$A\\vec{b}=\\vec{c} \\rightarrow \\vec{b}=A^{-1}\\vec{c}$$"
   ]
  },
  {
   "cell_type": "markdown",
   "metadata": {},
   "source": [
    "$$ 3x_1 - 7x_2 + 4x_3 = 10 $$\n",
    "$$ 1x_1 - 2x_2 + x_3 = 3 $$\n",
    "$$ 2x_1 - 1x_2 - 2x_3 = 6 $$\n",
    "\n",
    "$$\\begin{bmatrix}\n",
    "3 & -7 & 4\\\\\n",
    "1 & -2 & 1\\\\\n",
    "2 & -1 & -2 \n",
    "\\end{bmatrix}\\begin{bmatrix}\n",
    "x_1\\\\\n",
    "x_2\\\\\n",
    "x_3\\end{bmatrix} = \\begin{bmatrix}\n",
    "10\\\\\n",
    "3\\\\\n",
    "6\\end{bmatrix} $$"
   ]
  },
  {
   "cell_type": "code",
   "execution_count": 40,
   "metadata": {},
   "outputs": [
    {
     "name": "stdout",
     "output_type": "stream",
     "text": [
      "Verificar solucion\n",
      "[-2. -4. -3.]\n",
      "[10.  3.  6.]\n"
     ]
    }
   ],
   "source": [
    "A = np.array([[3,-7,4],[1,-2,1],[2,-1,-2]])\n",
    "c = np.array([10, 3, 6])\n",
    "\n",
    "b = np.linalg.solve(A, c)\n",
    "print(\"Verificar solucion\")\n",
    "print(b)\n",
    "print(A @ b)"
   ]
  },
  {
   "cell_type": "markdown",
   "metadata": {},
   "source": [
    "También podría usarse la inversión de matrices que se puede llevar a cabo con la función **inv**."
   ]
  },
  {
   "cell_type": "code",
   "execution_count": 41,
   "metadata": {},
   "outputs": [
    {
     "data": {
      "text/plain": [
       "matrix([[-2.],\n",
       "        [-4.],\n",
       "        [-3.]])"
      ]
     },
     "execution_count": 41,
     "metadata": {},
     "output_type": "execute_result"
    }
   ],
   "source": [
    "np.linalg.inv(A)*np.transpose(np.matrix([[10,3,6]]))"
   ]
  },
  {
   "cell_type": "code",
   "execution_count": 42,
   "metadata": {},
   "outputs": [
    {
     "data": {
      "text/plain": [
       "array([[-5., 18., -1.],\n",
       "       [-4., 14., -1.],\n",
       "       [-3., 11., -1.]])"
      ]
     },
     "execution_count": 42,
     "metadata": {},
     "output_type": "execute_result"
    }
   ],
   "source": [
    "np.linalg.inv(A)"
   ]
  },
  {
   "cell_type": "markdown",
   "metadata": {},
   "source": [
    "## Otros"
   ]
  },
  {
   "cell_type": "markdown",
   "metadata": {},
   "source": [
    "La función **eye** sirve para producir un \"array identidad\"."
   ]
  },
  {
   "cell_type": "code",
   "execution_count": null,
   "metadata": {},
   "outputs": [],
   "source": [
    "identidad=np.matrix(np.eye(10))\n",
    "print(identidad)"
   ]
  },
  {
   "cell_type": "markdown",
   "metadata": {},
   "source": [
    "La función **diag** se puede utilizar para tomar la diagonal de un array o bandas."
   ]
  },
  {
   "cell_type": "code",
   "execution_count": null,
   "metadata": {},
   "outputs": [],
   "source": [
    "ma=np.diag(range(10))\n",
    "print(ma)"
   ]
  },
  {
   "cell_type": "code",
   "execution_count": null,
   "metadata": {},
   "outputs": [],
   "source": [
    "# Recuperar la diagonal\n",
    "np.diag(ma)"
   ]
  },
  {
   "cell_type": "code",
   "execution_count": null,
   "metadata": {},
   "outputs": [],
   "source": [
    "# Usar una diagonal distinta a la principal\n",
    "np.diag(range(10),k=1)"
   ]
  },
  {
   "cell_type": "code",
   "execution_count": null,
   "metadata": {},
   "outputs": [],
   "source": [
    "ma=np.zeros((10,10))\n",
    "# La función transpose puede utilizarse para transponer arrays o matrices.\n",
    "for i in range(10):\n",
    "    ma+=np.diag(range(10-i),k=i)+np.transpose(np.diag(range(10-i),k=i))\n",
    "plt.figure()\n",
    "plt.imshow(ma,interpolation='none')\n",
    "plt.show()"
   ]
  },
  {
   "cell_type": "markdown",
   "metadata": {},
   "source": [
    "## Exercise\n",
    "\n",
    "Dados tres puntos en el plano cartesiano, encuentre la ecuación (como un string) del circulo que pasa exactamente por esos tres puntos. \n",
    "\n",
    "$$ (x-x_0)^2+(y-y_0)^2=r^2 $$"
   ]
  },
  {
   "cell_type": "code",
   "execution_count": 43,
   "metadata": {},
   "outputs": [],
   "source": [
    "import numpy as np\n",
    "\n",
    "data1 = \"(9,8),(9,4),(3,6)\"\n",
    "data2 = \"(7,3),(9,6),(3,6)\"\n",
    "\n",
    "def circle(data):\n",
    "    \n",
    "    x_1, y_1 = int(data[1]), int(data[3])\n",
    "    x_2, y_2 = int(data[7]), int(data[9])\n",
    "    x_3, y_3 = int(data[13]), int(data[15])\n",
    "    \n",
    "    A = np.array([ [x_1,y_1,1], [x_2,y_2,1], [x_3,y_3,1] ])\n",
    "    B = np.array([-(x_1**2+y_1**2), -(x_2**2+y_2**2), -(x_3**2+y_3**2)])\n",
    "    \n",
    "    C = np.linalg.solve(A,B)\n",
    "    \n",
    "    x_0, y_0, r = -(C[0])/2, -(C[1])/2, np.sqrt((-(C[0])/2)**2+(-(C[1])/2)**2-C[2])\n",
    "    x_0, y_0, r = round(x_0,2), round(y_0,2), round(r,2)\n",
    "    x_0, y_0, r = '%g'%(x_0), '%g'%(y_0), '%g'%(r) \n",
    "\n",
    "    return \"(x-\"+ x_0 + \")^2+(y-\" + y_0 + \")^2=\" + r + \"^2\""
   ]
  },
  {
   "cell_type": "code",
   "execution_count": 44,
   "metadata": {},
   "outputs": [
    {
     "data": {
      "text/plain": [
       "'(x-6.33)^2+(y-6)^2=3.33^2'"
      ]
     },
     "execution_count": 44,
     "metadata": {},
     "output_type": "execute_result"
    }
   ],
   "source": [
    "circle(\"(9,8),(9,4),(3,6)\")"
   ]
  },
  {
   "cell_type": "code",
   "execution_count": 45,
   "metadata": {},
   "outputs": [],
   "source": [
    "def circle_params(data):\n",
    "    \n",
    "    x_1, y_1 = int(data[1]), int(data[3])\n",
    "    x_2, y_2 = int(data[7]), int(data[9])\n",
    "    x_3, y_3 = int(data[13]), int(data[15])\n",
    "    \n",
    "    A = np.array([ [x_1,y_1,1], [x_2,y_2,1], [x_3,y_3,1] ])\n",
    "    B = np.array([-(x_1**2+y_1**2), -(x_2**2+y_2**2), -(x_3**2+y_3**2)])\n",
    "    \n",
    "    C = np.linalg.solve(A,B)\n",
    "    \n",
    "    x_0, y_0, r = -(C[0])/2, -(C[1])/2, np.sqrt((-(C[0])/2)**2+(-(C[1])/2)**2-C[2])\n",
    "    x_0, y_0, r = round(x_0,2), round(y_0,2), round(r,2)\n",
    "    #x_0, y_0, r = '%g'%(x_0), '%g'%(y_0), '%g'%(r) \n",
    "\n",
    "    return x_0, y_0, r"
   ]
  },
  {
   "cell_type": "code",
   "execution_count": 46,
   "metadata": {},
   "outputs": [
    {
     "name": "stdout",
     "output_type": "stream",
     "text": [
      "6.33 6.0 3.33\n"
     ]
    }
   ],
   "source": [
    "x_0, y_0, r = circle_params(\"(9,8),(9,4),(3,6)\")\n",
    "\n",
    "print(x_0, y_0, r )"
   ]
  },
  {
   "cell_type": "code",
   "execution_count": 47,
   "metadata": {},
   "outputs": [],
   "source": [
    "data = \"(9,8),(9,4),(3,6)\"\n",
    "x_1, y_1 = int(data[1]), int(data[3])\n",
    "x_2, y_2 = int(data[7]), int(data[9])\n",
    "x_3, y_3 = int(data[13]), int(data[15])\n",
    "\n",
    "x = [x_1, x_2, x_3]\n",
    "y = [y_1, y_2, y_3]"
   ]
  },
  {
   "cell_type": "code",
   "execution_count": 48,
   "metadata": {},
   "outputs": [
    {
     "data": {
      "image/png": "[encoded data removed]",
      "text/plain": [
       "<Figure size 432x288 with 1 Axes>"
      ]
     },
     "metadata": {
      "needs_background": "light"
     },
     "output_type": "display_data"
    }
   ],
   "source": [
    "import matplotlib.pyplot as plt\n",
    "\n",
    "# taken from https://stackoverflow.com/questions/9215658/plot-a-circle-with-pyplot\n",
    "\n",
    "fig, ax = plt.subplots()\n",
    "ax.add_patch(plt.Circle((x_0, y_0), r, color='r', alpha=0.5))\n",
    "ax.scatter(x, y)\n",
    "\n",
    "#Use adjustable='box-forced' to make the plot area square-shaped as well.\n",
    "ax.set_aspect('equal', adjustable='datalim')\n",
    "ax.plot()   #Causes an autoscale update.\n",
    "plt.show()"
   ]
  },
  {
   "cell_type": "code",
   "execution_count": null,
   "metadata": {},
   "outputs": [],
   "source": []
  }
 ],
 "metadata": {
  "kernelspec": {
   "display_name": "Python 3",
   "language": "python",
   "name": "python3"
  },
  "language_info": {
   "codemirror_mode": {
    "name": "ipython",
    "version": 3
   },
   "file_extension": ".py",
   "mimetype": "text/x-python",
   "name": "python",
   "nbconvert_exporter": "python",
   "pygments_lexer": "ipython3",
   "version": "3.8.10"
  }
 },
 "nbformat": 4,
 "nbformat_minor": 1
}
