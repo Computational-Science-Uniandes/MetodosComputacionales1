{
 "cells": [
  {
   "cell_type": "markdown",
   "metadata": {
    "id": "BfeOSo210jsG"
   },
   "source": [
    "**Métodos computacionales 1**\n",
    "\n",
    "**Universidad de los Andes**"
   ]
  },
  {
   "cell_type": "markdown",
   "metadata": {
    "id": "a_uYLbKOWWZI"
   },
   "source": [
    "## Ajuste lineal de datos (mínimos cuadrados)\n",
    "\n",
    "En muchas ocasiones se quiere encontrar la recta que mejor se ajusta a una nube de puntos, por ejemplo, en un espacio de dos dimensiones.\n",
    "Una forma de lograr esto es medir la distancia en el eje $y$ que existe entre la recta y cada punto de la nube.  "
   ]
  },
  {
   "cell_type": "code",
   "execution_count": 3,
   "metadata": {
    "id": "ANb7k6fSWG-O"
   },
   "outputs": [],
   "source": [
    "%matplotlib widget\n",
    "import matplotlib.pyplot as plt\n",
    "import numpy as np\n",
    "plt.style.use('dark_background')"
   ]
  },
  {
   "cell_type": "code",
   "execution_count": 4,
   "metadata": {
    "colab": {
     "base_uri": "https://localhost:8080/",
     "height": 265
    },
    "id": "5yNI1Taravys",
    "outputId": "f9a7536c-0893-4b9d-e2ee-83246ccac120"
   },
   "outputs": [
    {
     "data": {
      "application/vnd.jupyter.widget-view+json": {
       "model_id": "0002b7c4dd724a6b87751a8bf5c43959",
       "version_major": 2,
       "version_minor": 0
      },
      "image/png": "[encoded data removed]",
      "text/html": [
       "\n",
       "            <div style=\"display: inline-block;\">\n",
       "                <div class=\"jupyter-widgets widget-label\" style=\"text-align: center;\">\n",
       "                    Figure\n",
       "                </div>\n",
       "                <img src='data:image/png;base64,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' width=640.0/>\n",
       "            </div>\n",
       "        "
      ],
      "text/plain": [
       "Canvas(toolbar=Toolbar(toolitems=[('Home', 'Reset original view', 'home', 'home'), ('Back', 'Back to previous …"
      ]
     },
     "metadata": {},
     "output_type": "display_data"
    }
   ],
   "source": [
    "x = [1, 2, 3, 4, 5]\n",
    "y = [0.6, 3, 2, 3.5, 5.4]\n",
    "\n",
    "for i in range(len(x)):\n",
    "  plt.plot([i + 1, x[i]], [i + 1, y[i]], 'r', linewidth = 3.0) \n",
    "\n",
    "plt.plot([0.5, 5.5], [0.5, 5.5], 'g', linewidth = 2.0)   # dibuja una línea\n",
    "plt.plot(x, y, 'bo')     # dibuja puntos\n",
    "plt.show()"
   ]
  },
  {
   "cell_type": "markdown",
   "metadata": {
    "id": "KN4h3ZUxWVCB"
   },
   "source": [
    "En la figura anterior se muestran en rojo las distancias entre cada punto (en azul) y la recta (en verde). \n",
    "\n",
    "Podemos llamar las coordenadas de cada punto azul como ($x_i, y_i$).\n",
    "Si evaluamos la ecuación de la recta ($y_i'=mx_i+b$) en cada valor $x_i$, obtenemos las coordenadas verticales de los puntos teóricos.\n",
    "para obtener las distancias (líneas rojas) se hace simplemente la diferencia entre las dos alturas.\n",
    "$$y'_i - y_i$$\n",
    "Esta distancia da una medida del error entre el modelo (la línea) y los puntos. Para tener solo cantidades positivas se eleva al cuadrado:\n",
    "$$(y'_i - y_i)^2$$\n",
    "si se suman todos los cuadrados tendremos una medida del error total\n",
    "$$\\sum_{i=1}^{i=n}(y'_i - y_i)^2$$\n",
    "Se desea que el valor del error sea el más pequeño posible por lo que se desea encontrar el valor mínimo de la ecuación anterior. \n",
    "Al tratarse de una función cuadrática positiva, el mínimo se puede hallar simplemente derivando respecto a $m$ e igualando a cero y repitiendo el proceso para $b$:\n",
    "\n",
    "$$\\frac{\\partial \\sum(y'_i - y_i)^2}{\\partial m}=0$$\n",
    "$$\\frac{\\partial \\sum(y'_i - y_i)^2}{\\partial b}=0$$\n",
    "Sustituyendo a $y_i'$\n",
    "$$\\frac{\\partial \\sum(mx_i+b - y_i)^2}{\\partial m}=0$$\n",
    "$$\\frac{\\partial \\sum(mx_i+b - y_i)^{2}}{\\partial b}=0$$\n",
    "Con esto se obtiene\n",
    "$$\\sum_{i=1}^{n} y_i = nb+ m\\sum_{i=1}^n x_i$$\n",
    "$$\\sum_{i=1}^{n} x_iy_i = b\\sum_{i=1}^{n}+ m\\sum_{i=1}^n x_i^2$$\n",
    "Resolviendo para $m$ y $b$ se tiene\n",
    "$$m = \\frac{\\sum x_iy_i-\\frac{1}{n}\\sum x_i \\sum y_i}{\\sum x_i^2 - \\frac{1}{n}\\left(\\sum x_i\\right)^2}$$\n",
    "\n",
    "$$b = \\frac{1}{n}\\sum y_i - \\frac{m}{n}\\sum x_i$$\n",
    "\n",
    "A continuación, se muestra un ejemplo de implementación de estas ecuaciones:"
   ]
  },
  {
   "cell_type": "code",
   "execution_count": null,
   "metadata": {
    "colab": {
     "base_uri": "https://localhost:8080/",
     "height": 265
    },
    "id": "L3dKasGx4wwF",
    "outputId": "136931f3-a988-479d-c2f3-a99fa72e8ef2"
   },
   "outputs": [],
   "source": [
    "pts = 100\n",
    "amp = 2\n",
    "\n",
    "x = np.linspace(1, 20, pts).reshape(-1, 1)\n",
    "y = np.random.randn()*(amp*np.random.randn(pts, 1) + x) + np.random.randn()*10\n",
    "\n",
    "sumx = np.sum(x)\n",
    "sumy = np.sum(y)\n",
    "\n",
    "m = (np.sum(x*y) - sumx*sumy / pts)/(np.sum(x*x) - sumx**2/pts)\n",
    "b = (sumy - m*sumx)/pts \n",
    "\n",
    "plt.plot(x, y, 'o')\n",
    "plt.plot([x[0], x[-1]], [m*x[0] + b, m*x[-1] + b], 'r', linewidth = 3)\n",
    "plt.show()"
   ]
  },
  {
   "cell_type": "markdown",
   "metadata": {
    "id": "RQXqJgflIQET"
   },
   "source": [
    "## Ajuste lineal (método matricial)\n",
    "\n",
    "\n",
    "Supongamos que tenemos un sistema inconsistente de ecuaciones que no cumplen\n",
    "\n",
    "$$\\textbf{P}\\vec v = \\vec y$$\n",
    "\n",
    "o escrito de forma más explicita \n",
    "\n",
    "$$\\begin{bmatrix}\n",
    "1 && x_1\\\\ \n",
    "1 && x_2\\\\ \n",
    "\\vdots && \\vdots\\\\ \n",
    "1 && x_n\n",
    "\\end{bmatrix}\n",
    "\\begin{bmatrix}\n",
    "a\\\\ \n",
    "b\\\\ \n",
    "\\end{bmatrix}=\\begin{bmatrix}\n",
    "y_1\\\\ \n",
    "y_2\\\\ \n",
    "\\vdots \\\\ \n",
    "y_n\n",
    "\\end{bmatrix}$$\n",
    "\n",
    "de forma que $\\vec y$ no se encuentra en el espacio columna de $\\textbf{P}$. Sin embargo, la proyección del vector $\\vec y$ sobre el espacio columna de $\\textbf{P}$ se corresponde con la menor distancia entre dicho espacio y $\\vec y$. Entonces para minimizar esta distancia\n",
    "$$\\left \\| \\vec y - \\textbf{P}\\vec v^{*} \\right \\|$$\n",
    "se tiene que $$\\textbf{P}\\vec v^{*} = \\text{Proy}_{C(\\textbf{P})}\\vec y$$ \n",
    "al restar $\\vec y$ a cada lado de la igualdad obtenemos un vector que es ortogonal al espacio columna de $\\textbf{P}$ \n",
    "\n",
    "$$\\textbf{P}\\vec v^{*}-\\vec y = \\text{Proy}_{C(\\textbf{P})}\\vec y - \\vec y$$ \n",
    "Es decir $\\textbf{P}\\vec v^{*}-\\vec y \\in C(P)^{\\perp}$.\n",
    "Teniendo en cuenta que este espacio ortogonal es el espacio izquierdo nulo de $\\textbf{P}^{\\perp}$, que se nota como $N(\\textbf P^{\\intercal})$\n",
    "$$C(P)^{\\perp} = N(\\textbf P^{\\intercal})$$\n",
    "Entonces\n",
    "$$\\textbf{P}\\vec v^{*}-\\vec y \\in N(\\textbf P^{\\intercal})$$\n",
    "Al estar $\\textbf{P}\\vec v^{*}-\\vec y$ en $N(\\textbf P^{\\intercal})$ significa que si se multiplica por izquierda por $\\textbf P^{\\intercal}$ nos dará como resultado el vector cero.\n",
    "$$\\textbf P^{\\intercal}(\\textbf{P}\\vec v^{*}-\\vec y)=\\vec 0$$\n",
    "Distribuyendo\n",
    "$$\\textbf P^{\\intercal}\\textbf{P}\\vec v^{*}-\\textbf P^{\\intercal}\\vec y=\\vec 0$$\n",
    "Sumando $\\textbf P^{\\intercal}\\vec y$ en ambos extremos de la igualdad\n",
    "$$\\textbf P^{\\intercal}\\textbf{P}\\vec v^{*}=\\textbf P^{\\intercal}\\vec y$$\n",
    "Multiplicando ambos extremos por izquierda por $(\\textbf P^{\\intercal}\\textbf{P})^{-1}$ y simplificando se tiene\n",
    "$$\\vec v^{*}=(\\textbf P^{\\intercal}\\textbf{P})^{-1}\\textbf P^{\\intercal}\\vec y$$\n",
    "Así hemos encontrado los parámetros que minimizan la distancia $\\left \\| \\vec y - \\textbf{P}\\vec v^{*} \\right \\|$, los componentes de $\\vec v^*$ son coeficientes del ajuste buscado.\n",
    "\n",
    "Veamos un ejemplo en un espacio de 2 dimensiones en Python:"
   ]
  },
  {
   "cell_type": "code",
   "execution_count": null,
   "metadata": {
    "colab": {
     "base_uri": "https://localhost:8080/",
     "height": 265
    },
    "id": "EwO-odsE7b18",
    "outputId": "745632a9-9331-464a-f4fb-ad0fdcc470d6"
   },
   "outputs": [],
   "source": [
    "pts = 300\n",
    "amp = 2\n",
    "\n",
    "x = np.linspace(1, 20, pts).reshape(-1, 1)\n",
    "y = np.random.randn()*(amp*np.random.randn(pts, 1) + x) + np.random.randn()*10\n",
    "\n",
    "P = np.array([np.ones([pts, 1]), x]).reshape(2, pts).T\n",
    "v = (np.linalg.inv(P.T @ P) @ P.T) @ y\n",
    "b, m = v\n",
    "\n",
    "plt.plot(x, y, 'o')\n",
    "plt.plot([x[0], x[-1]], [m*x[0] + b, m*x[-1] + b], 'r', linewidth=3)\n",
    "plt.show()"
   ]
  },
  {
   "cell_type": "markdown",
   "metadata": {
    "id": "Q9JylV7RSutz"
   },
   "source": [
    "## Solución de sistemas de ecuaciones lineales por eliminación gaussiana\n",
    "\n",
    "El algoritmo es el siguiente:\n",
    "- Ir a la primera columna número cero de izquierda a derecha.\n",
    "- Si la primera fila tiene un cero en esta columna, intercambiarlo con otra que no lo tenga.\n",
    "- Luego, obtener ceros debajo de este elemento delantero, sumando múltiplos adecuados del renglón superior a los renglones debajo de él.\n",
    "- Cubrir el renglón superior y repetir el proceso anterior con la submatriz restante. Repetir con el resto de los renglones (en este punto la matriz se encuentra en forma escalonada).\n",
    "- Comenzando con el último renglón no cero, avanzar hacia arriba: para cada renglón obtener 1 delantero e introducir ceros arriba de este sumando múltiplos correspondientes a los renglones correspondientes.\n",
    "\n",
    "**Ejemplo:** Resolver el siguiente sistema de ecuaciones\n",
    "\n",
    "El sistema de 3 ecuaciones con 3 incognitas\n",
    "\n",
    "$$      \\begin{array}{rrrcr}\n",
    "          2x & + y &   -z & = &   8 \\\\\n",
    "         -3x & - y & + 2z & = & -11 \\\\\n",
    "         -2x & + y & + 2z & = &  -3\n",
    "      \\end{array}$$\n",
    "\n",
    "se puede representar con la siguiente matriz aumentada:\n",
    "\n",
    "$$   \\left (\n",
    "      \\begin{array}{rrr:r}\n",
    "          2 &  1 & -1 &   8 \\\\\n",
    "         -3 & -1 &  2 & -11 \\\\\n",
    "         -2 &  1 &  2 &  -3\n",
    "      \\end{array}\n",
    "   \\right )$$\n",
    "\n",
    "A modo de ejemplo, se muestra un paso del algoritmo de eliminación gaussiana: Sumando a la segunda fila, la primera multiplicada por $\\frac{3}{2}$, y a la tercera, la2001122 primera fila:\n",
    "$$   \\left (\n",
    "      \\begin{array}{rrr:r}\n",
    "         2 & 1           & -1          & 8 \\\\\n",
    "         0 & \\frac{1}{2} & \\frac{1}{2} & 1 \\\\\n",
    "         0 & 2           & 1           & 5 \n",
    "      \\end{array}\n",
    "   \\right )$$"
   ]
  },
  {
   "cell_type": "code",
   "execution_count": null,
   "metadata": {},
   "outputs": [],
   "source": [
    "def triangular_superior(A):\n",
    "    B = A.copy().astype(float)\n",
    "    n = B.shape[0]\n",
    "    for i in range(n): # recorrido por las columnas\n",
    "        for j in range(i+1, n): # recorrido por las filas\n",
    "            B[j] = ((B[j, i])/B[i, i]) * B[i] - B[j]\n",
    "            # B[2] = (B[2, 1] / B[1, 1]) * B[1] - B[2]\n",
    "            # [0, 0, -3, -3]= (2 / 0.5) * [0, 1/2, 1/2, 1] - [0, 2, 1, 5]\n",
    "    return B"
   ]
  },
  {
   "cell_type": "code",
   "execution_count": null,
   "metadata": {
    "id": "rmzrOh37UBHl"
   },
   "outputs": [],
   "source": [
    "def matriz_diagonal(A_t):\n",
    "  B = A_t.copy().astype(float)\n",
    "  n = B.shape[0]\n",
    "  for i in range(n - 1, -1, -1):\n",
    "    for j in range(i - 1, -1, -1):\n",
    "      B[j] = (B[j, i]/B[i, i]) * B[i] - B[j]\n",
    "\n",
    "    B[i] = B[i] / B[i, i]\n",
    "  return B"
   ]
  },
  {
   "cell_type": "code",
   "execution_count": null,
   "metadata": {
    "colab": {
     "base_uri": "https://localhost:8080/"
    },
    "id": "YUu3VvXdmITt",
    "outputId": "9b1b8b8f-5a09-4856-d516-ad907561b379"
   },
   "outputs": [],
   "source": [
    "A = np.array([\n",
    "    [2, 1, -1, 8],\n",
    "    [-3, -1, 2, -11],\n",
    "    [-2, 1, 2, -3]\n",
    "])\n",
    "A_t = triangular_superior(A)\n",
    "D = matriz_diagonal(A_t)\n",
    "print(D)\n",
    "solucion = D[:, -1]\n",
    "print(solucion)\n",
    "print('comprobar solución')\n",
    "print(A[:, 0:-1] @ solucion)"
   ]
  },
  {
   "cell_type": "markdown",
   "metadata": {
    "id": "SKcOVGcsnvM2"
   },
   "source": [
    "## Eliminación gaussiana con pivoteo parcial\n",
    "\n",
    "Si aparecen ceros a lo largo de la diagonal de la matriz que representa el sistema de ecuaciónes el método anteriormente expuesto fallará, una forma versión más robusta del algoritmo es la eliminación gaussiana con pivoteo parcial, el cual realizan intercambios de filas en la matriz de forma tal que en la diagonal quede el elemento más grande en valor absoluto, comparado con los demas elementos de la columna a la que pertenece cada elemento diagonal.\n",
    "\n",
    "**Ejemplo:** Resolver el siguiente sistema de ecuaciones:\n",
    "\n",
    "$$      \\begin{array}{rrrcr}\n",
    "           & - 2y &   -z & = &   -14 \\\\\n",
    "         2x & + 3y & + z & = & 1 \\\\\n",
    "         3x & + y & - z & = & 1\n",
    "      \\end{array}$$\n",
    "\n",
    "se puede representar con la siguiente matriz aumentada:\n",
    "\n",
    "$$   \\left (\n",
    "      \\begin{array}{rrr:r}\n",
    "          0 & -2 & -1 & -14 \\\\\n",
    "          2 &  3 &  1 &   1 \\\\\n",
    "          3 &  1 & -1 &   1\n",
    "      \\end{array}\n",
    "   \\right )$$"
   ]
  },
  {
   "cell_type": "code",
   "execution_count": null,
   "metadata": {
    "id": "yAonFDPln3cz"
   },
   "outputs": [],
   "source": [
    "def triangular_superior_con_pivoteo(A):\n",
    "  B = A.copy().astype(float)\n",
    "  n = B.shape[0]\n",
    "  for i in range(n):\n",
    "    indi_max = np.argmax(np.abs(B[i:, i]))\n",
    "    if indi_max > 0:\n",
    "      C = B[i].copy()\n",
    "      B[i] = B[i + indi_max]\n",
    "      B[i + indi_max] = C\n",
    "    for j in range(i + 1, n):      \n",
    "      B[j] = (B[j, i]/B[i, i]) * B[i] - B[j]\n",
    "  return B\n",
    "  "
   ]
  },
  {
   "cell_type": "code",
   "execution_count": null,
   "metadata": {
    "colab": {
     "base_uri": "https://localhost:8080/"
    },
    "id": "84GLSBXipF5A",
    "outputId": "4a6d111c-358a-4fe9-d9cd-effcb9968ee3"
   },
   "outputs": [],
   "source": [
    "A = np.array([\n",
    "              [0, -2, -1, -14],\n",
    "              [2, 3, 1, 1],\n",
    "              [3, 1, -1, 1]\n",
    "])\n",
    "\n",
    "A_t = triangular_superior_con_pivoteo(A)\n",
    "D = matriz_diagonal(A_t)\n",
    "print(D)\n",
    "solucion = D[:, -1]\n",
    "print(solucion)\n",
    "print('comprobar solución')\n",
    "print(A[:, 0:-1] @ solucion)"
   ]
  },
  {
   "cell_type": "code",
   "execution_count": null,
   "metadata": {},
   "outputs": [],
   "source": [
    "np.linalg.solve(A[:, 0:-1], A[:, -1])"
   ]
  },
  {
   "cell_type": "markdown",
   "metadata": {},
   "source": [
    "**Referencias:**\n",
    "\n",
    "**Universidad de los Andes**\n",
    "\n",
    "**Profesor: Diego Alberto Castro Rodríguez**"
   ]
  },
  {
   "cell_type": "code",
   "execution_count": null,
   "metadata": {},
   "outputs": [],
   "source": []
  }
 ],
 "metadata": {
  "colab": {
   "collapsed_sections": [],
   "name": "09_fit_lineal_y_solucion_sistema_de_ecuaciones.ipynb",
   "provenance": []
  },
  "kernelspec": {
   "display_name": "Python 3",
   "language": "python",
   "name": "python3"
  },
  "language_info": {
   "codemirror_mode": {
    "name": "ipython",
    "version": 3
   },
   "file_extension": ".py",
   "mimetype": "text/x-python",
   "name": "python",
   "nbconvert_exporter": "python",
   "pygments_lexer": "ipython3",
   "version": "3.8.8"
  }
 },
 "nbformat": 4,
 "nbformat_minor": 1
}
