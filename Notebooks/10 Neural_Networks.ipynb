{
  "cells": [
    {
      "cell_type": "markdown",
      "source": [
        "# Metodos Computacionales \n",
        "## Universidad de los Andes"
      ],
      "metadata": {
        "id": "U8aYzpPl1J_I"
      }
    },
    {
      "cell_type": "markdown",
      "metadata": {
        "id": "_LRPNBZIptF6"
      },
      "source": [
        "## Libraries"
      ]
    },
    {
      "cell_type": "code",
      "execution_count": null,
      "metadata": {
        "id": "PsNZm15ZpHYF"
      },
      "outputs": [],
      "source": [
        "import tensorflow as tf\n",
        "from tensorflow.keras import layers, Model\n",
        "from tensorflow.keras.models import Sequential\n",
        "import numpy as np\n",
        "import matplotlib.pyplot as plt"
      ]
    },
    {
      "cell_type": "markdown",
      "metadata": {
        "id": "CUG5ogFct09P"
      },
      "source": [
        "## GPU"
      ]
    },
    {
      "cell_type": "code",
      "execution_count": null,
      "metadata": {
        "colab": {
          "base_uri": "https://localhost:8080/"
        },
        "id": "iWWimbkBbrM_",
        "outputId": "f535a675-018a-4118-c690-886a8abdfe79"
      },
      "outputs": [
        {
          "output_type": "stream",
          "name": "stdout",
          "text": [
            "Wed Mar 30 16:24:36 2022       \n",
            "+-----------------------------------------------------------------------------+\n",
            "| NVIDIA-SMI 460.32.03    Driver Version: 460.32.03    CUDA Version: 11.2     |\n",
            "|-------------------------------+----------------------+----------------------+\n",
            "| GPU  Name        Persistence-M| Bus-Id        Disp.A | Volatile Uncorr. ECC |\n",
            "| Fan  Temp  Perf  Pwr:Usage/Cap|         Memory-Usage | GPU-Util  Compute M. |\n",
            "|                               |                      |               MIG M. |\n",
            "|===============================+======================+======================|\n",
            "|   0  Tesla K80           Off  | 00000000:00:04.0 Off |                    0 |\n",
            "| N/A   38C    P8    27W / 149W |      0MiB / 11441MiB |      0%      Default |\n",
            "|                               |                      |                  N/A |\n",
            "+-------------------------------+----------------------+----------------------+\n",
            "                                                                               \n",
            "+-----------------------------------------------------------------------------+\n",
            "| Processes:                                                                  |\n",
            "|  GPU   GI   CI        PID   Type   Process name                  GPU Memory |\n",
            "|        ID   ID                                                   Usage      |\n",
            "|=============================================================================|\n",
            "|  No running processes found                                                 |\n",
            "+-----------------------------------------------------------------------------+\n"
          ]
        }
      ],
      "source": [
        "!nvidia-smi"
      ]
    },
    {
      "cell_type": "markdown",
      "metadata": {
        "id": "n9OHBspfbc5Z"
      },
      "source": [
        "## MNIST Data Set"
      ]
    },
    {
      "cell_type": "code",
      "execution_count": null,
      "metadata": {
        "colab": {
          "base_uri": "https://localhost:8080/"
        },
        "id": "IhIFHcFRNjuE",
        "outputId": "d915eecf-c836-4178-e4e9-972042b8af4d"
      },
      "outputs": [
        {
          "output_type": "stream",
          "name": "stdout",
          "text": [
            "Downloading data from https://storage.googleapis.com/tensorflow/tf-keras-datasets/mnist.npz\n",
            "11493376/11490434 [==============================] - 0s 0us/step\n",
            "11501568/11490434 [==============================] - 0s 0us/step\n"
          ]
        },
        {
          "output_type": "execute_result",
          "data": {
            "text/plain": [
              "((60000, 28, 28), (10000, 28, 28), (60000,), (10000,))"
            ]
          },
          "metadata": {},
          "execution_count": 3
        }
      ],
      "source": [
        "from keras.datasets import mnist\n",
        "\n",
        "(X_train, y_train), (X_test, y_test) = mnist.load_data()\n",
        "\n",
        "X_train.shape, X_test.shape, y_train.shape, y_test.shape"
      ]
    },
    {
      "cell_type": "code",
      "execution_count": null,
      "metadata": {
        "colab": {
          "base_uri": "https://localhost:8080/",
          "height": 282
        },
        "id": "u-WKgd4EpcA6",
        "outputId": "7b45a24e-cdc4-42cf-a62a-5feddce689d6"
      },
      "outputs": [
        {
          "output_type": "execute_result",
          "data": {
            "text/plain": [
              "<matplotlib.image.AxesImage at 0x7f6e3dad7950>"
            ]
          },
          "metadata": {},
          "execution_count": 5
        },
        {
          "output_type": "display_data",
          "data": {
            "text/plain": [
              "<Figure size 432x288 with 1 Axes>"
            ],
            "image/png": "[encoded data removed]"
          },
          "metadata": {
            "needs_background": "light"
          }
        }
      ],
      "source": [
        "plt.imshow(X_train[5])"
      ]
    },
    {
      "cell_type": "code",
      "execution_count": null,
      "metadata": {
        "id": "nWSIxeaFv_P5"
      },
      "outputs": [],
      "source": [
        "# Set the training parameters of the CNN Feature Extractor\n",
        "num_classes = 10\n",
        "epochs = 10\n",
        "batch_size = 128"
      ]
    },
    {
      "cell_type": "code",
      "execution_count": null,
      "metadata": {
        "colab": {
          "base_uri": "https://localhost:8080/"
        },
        "id": "WI4FC6dsj4a3",
        "outputId": "682781b7-15f4-42bb-d6bc-a9fb6446ebcc"
      },
      "outputs": [
        {
          "output_type": "execute_result",
          "data": {
            "text/plain": [
              "((60000, 784), (10000, 784), (60000, 10), (10000, 10))"
            ]
          },
          "metadata": {},
          "execution_count": 7
        }
      ],
      "source": [
        "# Select the indices for the binary classification\n",
        "y_train = y_train[:, np.newaxis]\n",
        "y_test = y_test[:, np.newaxis]\n",
        "\n",
        "# convert class vectors to binary class matrices for the CNN feature Extractor\n",
        "y_train = tf.keras.utils.to_categorical(y_train, num_classes)\n",
        "y_test = tf.keras.utils.to_categorical(y_test, num_classes)\n",
        "\n",
        "# reshape the X_train_n , and X_test_n, \n",
        "n_train = X_train.shape[0]\n",
        "n_test = X_test.shape[0]\n",
        "l_side = X_test.shape[1]\n",
        "X_train = X_train.reshape((n_train, l_side**2))/255\n",
        "X_test = X_test.reshape((n_test, l_side**2))/255\n",
        "\n",
        "X_train.shape, X_test.shape, y_train.shape, y_test.shape"
      ]
    },
    {
      "cell_type": "markdown",
      "metadata": {
        "id": "K8QWduBFpKE9"
      },
      "source": [
        "## Neural Dense Layers "
      ]
    },
    {
      "cell_type": "code",
      "execution_count": null,
      "metadata": {
        "colab": {
          "base_uri": "https://localhost:8080/"
        },
        "id": "Y4phqqr5pzYg",
        "outputId": "eac0d2aa-3fe2-4539-a40e-b5877e12c499"
      },
      "outputs": [
        {
          "output_type": "stream",
          "name": "stdout",
          "text": [
            "Model: \"sequential\"\n",
            "_________________________________________________________________\n",
            " Layer (type)                Output Shape              Param #   \n",
            "=================================================================\n",
            " dense (Dense)               (None, 128)               100480    \n",
            "                                                                 \n",
            " dense_1 (Dense)             (None, 10)                1290      \n",
            "                                                                 \n",
            "=================================================================\n",
            "Total params: 101,770\n",
            "Trainable params: 101,770\n",
            "Non-trainable params: 0\n",
            "_________________________________________________________________\n",
            "None\n"
          ]
        }
      ],
      "source": [
        "# Set the activation type\n",
        "\n",
        "# Define a CNN feature extraction model\n",
        "input_shape = X_train.shape[1:]\n",
        "model = Sequential()\n",
        "model.add(layers.Dense(128, activation=\"relu\", input_shape=input_shape))\n",
        "#model.add(layers.Dropout(0.5))\n",
        "model.add(layers.Dense(10, activation='softmax'))\n",
        "\n",
        "print(model.summary())"
      ]
    },
    {
      "cell_type": "code",
      "execution_count": null,
      "metadata": {
        "colab": {
          "base_uri": "https://localhost:8080/"
        },
        "id": "rVkVxfpIp-99",
        "outputId": "ec7fbff7-95c8-4968-a48d-ffc643867c34"
      },
      "outputs": [
        {
          "output_type": "stream",
          "name": "stdout",
          "text": [
            "Epoch 1/10\n",
            "469/469 [==============================] - 4s 5ms/step - loss: 2.4218 - accuracy: 0.0774 - val_loss: 2.3661 - val_accuracy: 0.0895\n",
            "Epoch 2/10\n",
            "469/469 [==============================] - 2s 4ms/step - loss: 2.3336 - accuracy: 0.1116 - val_loss: 2.2800 - val_accuracy: 0.1405\n",
            "Epoch 3/10\n",
            "469/469 [==============================] - 2s 4ms/step - loss: 2.2520 - accuracy: 0.1676 - val_loss: 2.2008 - val_accuracy: 0.2064\n",
            "Epoch 4/10\n",
            "469/469 [==============================] - 2s 5ms/step - loss: 2.1765 - accuracy: 0.2393 - val_loss: 2.1270 - val_accuracy: 0.2854\n",
            "Epoch 5/10\n",
            "469/469 [==============================] - 2s 5ms/step - loss: 2.1056 - accuracy: 0.3138 - val_loss: 2.0572 - val_accuracy: 0.3695\n",
            "Epoch 6/10\n",
            "469/469 [==============================] - 2s 4ms/step - loss: 2.0383 - accuracy: 0.3854 - val_loss: 1.9902 - val_accuracy: 0.4482\n",
            "Epoch 7/10\n",
            "469/469 [==============================] - 2s 5ms/step - loss: 1.9735 - accuracy: 0.4493 - val_loss: 1.9254 - val_accuracy: 0.5127\n",
            "Epoch 8/10\n",
            "469/469 [==============================] - 2s 5ms/step - loss: 1.9105 - accuracy: 0.5049 - val_loss: 1.8622 - val_accuracy: 0.5592\n",
            "Epoch 9/10\n",
            "469/469 [==============================] - 2s 4ms/step - loss: 1.8490 - accuracy: 0.5534 - val_loss: 1.8003 - val_accuracy: 0.5993\n",
            "Epoch 10/10\n",
            "469/469 [==============================] - 2s 4ms/step - loss: 1.7888 - accuracy: 0.5943 - val_loss: 1.7397 - val_accuracy: 0.6377\n",
            "Test loss: 1.7396944761276245\n",
            "Test accuracy: 0.6377000212669373\n"
          ]
        }
      ],
      "source": [
        "# Compile and run\n",
        "model.compile(loss=tf.keras.losses.categorical_crossentropy,\n",
        "              optimizer=tf.keras.optimizers.Adadelta(),\n",
        "              metrics=['accuracy'])\n",
        "\n",
        "history = model.fit(X_train, y_train,\n",
        "                    batch_size=batch_size,\n",
        "                    epochs=epochs,\n",
        "                    verbose=1,\n",
        "                    validation_data=(X_test, y_test))\n",
        "score = model.evaluate(X_test, y_test, verbose=0)\n",
        "\n",
        "print('Test loss:', score[0])\n",
        "print('Test accuracy:', score[1])"
      ]
    },
    {
      "cell_type": "markdown",
      "metadata": {
        "id": "knMWI9NKr-nX"
      },
      "source": [
        "## Convolutional Neural Networks"
      ]
    },
    {
      "cell_type": "code",
      "execution_count": null,
      "metadata": {
        "colab": {
          "base_uri": "https://localhost:8080/"
        },
        "id": "uc_Km695sTW2",
        "outputId": "ebeca25e-c5b1-47cc-fd54-5e562a4330a2"
      },
      "outputs": [
        {
          "output_type": "execute_result",
          "data": {
            "text/plain": [
              "((60000, 28, 28, 1), (10000, 28, 28, 1))"
            ]
          },
          "metadata": {},
          "execution_count": 10
        }
      ],
      "source": [
        "(X_train, a1), (X_test, a2)  = mnist.load_data()\n",
        "\n",
        "# Renormalize pixel values\n",
        "X_train = X_train[:, :, :, tf.newaxis] / 255\n",
        "X_test = X_test[:, :, :, tf.newaxis] / 255\n",
        "\n",
        "X_train.shape, X_test.shape"
      ]
    },
    {
      "cell_type": "code",
      "execution_count": null,
      "metadata": {
        "colab": {
          "base_uri": "https://localhost:8080/"
        },
        "id": "qkwQN4rHrMv6",
        "outputId": "0a7c0343-8b0f-44d2-bc9c-b1d2b9c53544"
      },
      "outputs": [
        {
          "output_type": "stream",
          "name": "stdout",
          "text": [
            "Model: \"sequential_1\"\n",
            "_________________________________________________________________\n",
            " Layer (type)                Output Shape              Param #   \n",
            "=================================================================\n",
            " conv2d (Conv2D)             (None, 26, 26, 32)        320       \n",
            "                                                                 \n",
            " conv2d_1 (Conv2D)           (None, 24, 24, 64)        18496     \n",
            "                                                                 \n",
            " max_pooling2d (MaxPooling2D  (None, 12, 12, 64)       0         \n",
            " )                                                               \n",
            "                                                                 \n",
            " dropout (Dropout)           (None, 12, 12, 64)        0         \n",
            "                                                                 \n",
            " flatten (Flatten)           (None, 9216)              0         \n",
            "                                                                 \n",
            " dense_2 (Dense)             (None, 128)               1179776   \n",
            "                                                                 \n",
            " dropout_1 (Dropout)         (None, 128)               0         \n",
            "                                                                 \n",
            " dense_3 (Dense)             (None, 10)                1290      \n",
            "                                                                 \n",
            "=================================================================\n",
            "Total params: 1,199,882\n",
            "Trainable params: 1,199,882\n",
            "Non-trainable params: 0\n",
            "_________________________________________________________________\n",
            "None\n"
          ]
        }
      ],
      "source": [
        "# Set the activation type\n",
        "\n",
        "# Define a CNN feature extraction model\n",
        "input_shape = X_train.shape[1:]\n",
        "model = Sequential()\n",
        "model.add(layers.Conv2D(32, kernel_size=(3, 3), activation='relu', input_shape=input_shape))\n",
        "model.add(layers.Conv2D(64, (3, 3), activation='relu'))\n",
        "model.add(layers.MaxPooling2D(pool_size=(2, 2)))\n",
        "model.add(layers.Dropout(0.25))\n",
        "model.add(layers.Flatten())\n",
        "model.add(layers.Dense(128, activation=\"relu\"))\n",
        "model.add(layers.Dropout(0.5))\n",
        "model.add(layers.Dense(num_classes, activation='softmax'))\n",
        "\n",
        "print(model.summary())\n"
      ]
    },
    {
      "cell_type": "code",
      "execution_count": null,
      "metadata": {
        "colab": {
          "base_uri": "https://localhost:8080/"
        },
        "id": "6bJP0y7btnbv",
        "outputId": "0f7d5520-2ba2-4b66-e766-ea9ec4e7d3ca"
      },
      "outputs": [
        {
          "output_type": "stream",
          "name": "stdout",
          "text": [
            "Epoch 1/10\n",
            "469/469 [==============================] - 16s 18ms/step - loss: 2.2823 - accuracy: 0.1455 - val_loss: 2.2516 - val_accuracy: 0.2904\n",
            "Epoch 2/10\n",
            "469/469 [==============================] - 8s 17ms/step - loss: 2.2327 - accuracy: 0.2391 - val_loss: 2.1889 - val_accuracy: 0.4140\n",
            "Epoch 3/10\n",
            "469/469 [==============================] - 8s 16ms/step - loss: 2.1677 - accuracy: 0.3294 - val_loss: 2.1069 - val_accuracy: 0.4826\n",
            "Epoch 4/10\n",
            "469/469 [==============================] - 8s 17ms/step - loss: 2.0819 - accuracy: 0.4058 - val_loss: 1.9982 - val_accuracy: 0.5816\n",
            "Epoch 5/10\n",
            "469/469 [==============================] - 8s 17ms/step - loss: 1.9700 - accuracy: 0.4757 - val_loss: 1.8556 - val_accuracy: 0.6480\n",
            "Epoch 6/10\n",
            "469/469 [==============================] - 8s 17ms/step - loss: 1.8251 - accuracy: 0.5386 - val_loss: 1.6791 - val_accuracy: 0.6913\n",
            "Epoch 7/10\n",
            "469/469 [==============================] - 8s 16ms/step - loss: 1.6628 - accuracy: 0.5834 - val_loss: 1.4815 - val_accuracy: 0.7225\n",
            "Epoch 8/10\n",
            "469/469 [==============================] - 8s 16ms/step - loss: 1.4944 - accuracy: 0.6185 - val_loss: 1.2846 - val_accuracy: 0.7563\n",
            "Epoch 9/10\n",
            "469/469 [==============================] - 8s 17ms/step - loss: 1.3396 - accuracy: 0.6434 - val_loss: 1.1098 - val_accuracy: 0.7918\n",
            "Epoch 10/10\n",
            "469/469 [==============================] - 8s 17ms/step - loss: 1.2075 - accuracy: 0.6698 - val_loss: 0.9669 - val_accuracy: 0.8117\n",
            "Test loss: 0.9668534398078918\n",
            "Test accuracy: 0.8116999864578247\n"
          ]
        }
      ],
      "source": [
        "# Compile and run\n",
        "model.compile(loss=tf.keras.losses.categorical_crossentropy,\n",
        "              optimizer=tf.keras.optimizers.Adadelta(),\n",
        "              metrics=['accuracy'])\n",
        "\n",
        "history = model.fit(X_train, y_train,\n",
        "                    batch_size=batch_size,\n",
        "                    epochs=epochs,\n",
        "                    verbose=1,\n",
        "                    validation_data=(X_test, y_test))\n",
        "score = model.evaluate(X_test, y_test, verbose=0)\n",
        "\n",
        "print('Test loss:', score[0])\n",
        "print('Test accuracy:', score[1])"
      ]
    },
    {
      "cell_type": "markdown",
      "metadata": {
        "id": "ubjJ6u9KvB0q"
      },
      "source": [
        "## Gradient Descent Algorithm"
      ]
    },
    {
      "cell_type": "code",
      "execution_count": null,
      "metadata": {
        "colab": {
          "base_uri": "https://localhost:8080/"
        },
        "id": "yeII3IpVvFvz",
        "outputId": "9bd0940e-0829-40e0-e720-29dd5bacf6bc"
      },
      "outputs": [
        {
          "name": "stdout",
          "output_type": "stream",
          "text": [
            "4.99\n",
            "4.890000000000002\n",
            "4.7900000000000045\n",
            "4.690000000000007\n",
            "4.590000000000009\n",
            "4.490000000000011\n",
            "4.390000000000013\n",
            "4.290000000000015\n",
            "4.190000000000017\n",
            "4.090000000000019\n",
            "3.9900000000000215\n",
            "3.8900000000000237\n",
            "3.790000000000026\n",
            "3.690000000000028\n",
            "3.59000000000003\n",
            "3.490000000000032\n",
            "3.3900000000000343\n",
            "3.2900000000000365\n",
            "3.1900000000000386\n",
            "3.0900000000000407\n",
            "2.990000000000043\n",
            "2.890000000000045\n",
            "2.790000000000047\n",
            "2.6900000000000492\n",
            "2.5900000000000514\n",
            "2.4900000000000535\n",
            "2.3900000000000556\n",
            "2.2900000000000578\n",
            "2.19000000000006\n",
            "2.090000000000062\n",
            "-2.000178222002269 2.000000000000064\n"
          ]
        }
      ],
      "source": [
        "def f(x):\n",
        "    return x**2 - 4*x + 2\n",
        "\n",
        "def df(x):\n",
        "    return 2**x - 4\n",
        "    \n",
        "next_pt = 5\n",
        "e = 0.01\n",
        "f_np1 = 0\n",
        "for n in range(300):\n",
        "    f_np1 = f(next_pt) - e * df(next_pt)\n",
        "    if f_np1 > f(next_pt):\n",
        "        break\n",
        "    next_pt = next_pt - e\n",
        "    if n % 10 == 0:\n",
        "      print(next_pt)\n",
        "    \n",
        "print(f_np1, next_pt)"
      ]
    }
  ],
  "metadata": {
    "accelerator": "GPU",
    "colab": {
      "name": "08 Neural Networks.ipynb",
      "provenance": []
    },
    "kernelspec": {
      "display_name": "Python 3",
      "name": "python3"
    },
    "language_info": {
      "name": "python"
    }
  },
  "nbformat": 4,
  "nbformat_minor": 0
}