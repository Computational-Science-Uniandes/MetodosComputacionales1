{
  "cells": [
    {
      "cell_type": "markdown",
      "metadata": {
        "colab_type": "text",
        "id": "LA6qRQC3EN0F"
      },
      "source": [
        "# Introduction to Linux \n",
        "\n",
        "by Diego H. Useche. Universidad de los Andes \n",
        "\n",
        "Based on [The Unix WorkBench | Coursera | John Hopkins University](https://www.coursera.org/learn/unix)"
      ]
    },
    {
      "cell_type": "markdown",
      "metadata": {
        "colab_type": "text",
        "id": "HUtU_TmsRjsy"
      },
      "source": [
        "##  Mount Google"
      ]
    },
    {
      "cell_type": "code",
      "execution_count": null,
      "metadata": {
        "colab": {},
        "colab_type": "code",
        "id": "iLiUmjvkRjZf"
      },
      "outputs": [],
      "source": [
        "from google.colab import drive\n",
        "drive.mount('/content/drive')"
      ]
    },
    {
      "cell_type": "markdown",
      "metadata": {
        "colab_type": "text",
        "id": "b4sOf0hy-AMb"
      },
      "source": [
        "Accessing Bash throuh Google Colab"
      ]
    },
    {
      "cell_type": "code",
      "execution_count": null,
      "metadata": {
        "colab": {
          "base_uri": "https://localhost:8080/",
          "height": 51
        },
        "colab_type": "code",
        "id": "CN1Flwod9kUx",
        "outputId": "3082b198-42b9-4169-f7ad-34484703bfa5"
      },
      "outputs": [
        {
          "name": "stdout",
          "output_type": "stream",
          "text": [
            "Hello World!\n",
            "Hello World!\n"
          ]
        }
      ],
      "source": [
        "%%bash\n",
        "echo \"Hello World!\"\n",
        "echo \"Hello World!\""
      ]
    },
    {
      "cell_type": "code",
      "execution_count": null,
      "metadata": {
        "colab": {
          "base_uri": "https://localhost:8080/",
          "height": 34
        },
        "colab_type": "code",
        "id": "kEFZduon93fH",
        "outputId": "949a2c91-ca20-493c-d892-12303e600686"
      },
      "outputs": [
        {
          "name": "stdout",
          "output_type": "stream",
          "text": [
            "Hello World\n"
          ]
        }
      ],
      "source": [
        "!echo \"Hello World\""
      ]
    },
    {
      "cell_type": "code",
      "execution_count": null,
      "metadata": {
        "colab": {
          "base_uri": "https://localhost:8080/",
          "height": 34
        },
        "colab_type": "code",
        "id": "S9aF9T1-98IS",
        "outputId": "57463746-167b-4663-8f46-ba065002a0a4"
      },
      "outputs": [
        {
          "name": "stdout",
          "output_type": "stream",
          "text": [
            "\u001b[H\u001b[2J"
          ]
        }
      ],
      "source": [
        "# Clean the the terminal up\n",
        "!clear"
      ]
    },
    {
      "cell_type": "markdown",
      "metadata": {
        "colab_type": "text",
        "id": "Cjga4hFGJmU5"
      },
      "source": [
        "##**Directories**\n",
        "\n",
        "Top Directory is called Root Directory represented by \"/\"\n",
        "Home Directory has all your files represented by a tilde \"~\""
      ]
    },
    {
      "cell_type": "code",
      "execution_count": null,
      "metadata": {
        "colab": {
          "base_uri": "https://localhost:8080/",
          "height": 34
        },
        "colab_type": "code",
        "id": "tqGBwOlGFyfT",
        "outputId": "cd7bdbf6-c8b3-49cc-b9dc-ab5f7c392386"
      },
      "outputs": [
        {
          "name": "stdout",
          "output_type": "stream",
          "text": [
            "/content\n"
          ]
        }
      ],
      "source": [
        "# check your current directory\n",
        "!pwd"
      ]
    },
    {
      "cell_type": "code",
      "execution_count": null,
      "metadata": {
        "colab": {
          "base_uri": "https://localhost:8080/",
          "height": 34
        },
        "colab_type": "code",
        "id": "U5z4vnmGKUEs",
        "outputId": "971e973c-568c-4535-9171-f0766d24faf8"
      },
      "outputs": [
        {
          "name": "stdout",
          "output_type": "stream",
          "text": [
            "sample_data\n"
          ]
        }
      ],
      "source": [
        "!ls"
      ]
    },
    {
      "cell_type": "code",
      "execution_count": null,
      "metadata": {
        "colab": {
          "base_uri": "https://localhost:8080/",
          "height": 119
        },
        "colab_type": "code",
        "id": "6BEGjYBeK4wB",
        "outputId": "0bfd2893-db79-4704-bc46-a2b951ebf490"
      },
      "outputs": [
        {
          "name": "stdout",
          "output_type": "stream",
          "text": [
            "anscombe.json\n",
            "california_housing_test.csv\n",
            "california_housing_train.csv\n",
            "mnist_test.csv\n",
            "mnist_train_small.csv\n",
            "README.md\n"
          ]
        }
      ],
      "source": [
        "%%bash\n",
        "cd sample_data\n",
        "ls"
      ]
    },
    {
      "cell_type": "code",
      "execution_count": null,
      "metadata": {
        "colab": {
          "base_uri": "https://localhost:8080/",
          "height": 493
        },
        "colab_type": "code",
        "id": "JulycbZJLIaL",
        "outputId": "a1f3ca11-068e-4898-8112-94a271858d3f"
      },
      "outputs": [
        {
          "name": "stdout",
          "output_type": "stream",
          "text": [
            "/\n",
            "bin\n",
            "boot\n",
            "content\n",
            "datalab\n",
            "dev\n",
            "dlib-19.18.0-cp27-cp27mu-linux_x86_64.whl\n",
            "dlib-19.18.0-cp36-cp36m-linux_x86_64.whl\n",
            "etc\n",
            "home\n",
            "lib\n",
            "lib32\n",
            "lib64\n",
            "media\n",
            "mnt\n",
            "opt\n",
            "proc\n",
            "root\n",
            "run\n",
            "sbin\n",
            "srv\n",
            "swift\n",
            "sys\n",
            "tensorflow-1.15.2\n",
            "tmp\n",
            "tools\n",
            "usr\n",
            "var\n"
          ]
        }
      ],
      "source": [
        "%%bash\n",
        "# Go back to previous directory arrive in root\n",
        "cd ..\n",
        "pwd\n",
        "ls"
      ]
    },
    {
      "cell_type": "code",
      "execution_count": null,
      "metadata": {
        "colab": {},
        "colab_type": "code",
        "id": "Yi99c_VULKDm"
      },
      "outputs": [],
      "source": [
        "# Go to a directory which is inside home directory\n",
        "%%bash\n",
        "cd ~/\n",
        "ls"
      ]
    },
    {
      "cell_type": "code",
      "execution_count": null,
      "metadata": {
        "colab": {},
        "colab_type": "code",
        "id": "9ZcnemcaODn3"
      },
      "outputs": [],
      "source": [
        "# use tab for autocompleting the directories"
      ]
    },
    {
      "cell_type": "markdown",
      "metadata": {
        "colab_type": "text",
        "id": "4-nOGP8xO_Ns"
      },
      "source": [
        "**Exercises**\n",
        "\n",
        "Set your working directory to the root directory.\n",
        "Set your working directory to your home directory using three different commands.\n",
        "Find a folder on your computer using your file and folder browser, and then set your working directory to that folder using the terminal.\n",
        "List all of the files and folders in the directory you navigated to in #3."
      ]
    },
    {
      "cell_type": "markdown",
      "metadata": {
        "colab_type": "text",
        "id": "8aX0iyJ_9Sq5"
      },
      "source": [
        "## Work with files and directories"
      ]
    },
    {
      "cell_type": "code",
      "execution_count": null,
      "metadata": {
        "colab": {},
        "colab_type": "code",
        "id": "V3emXkm2PD-c"
      },
      "outputs": [],
      "source": [
        "# make a directory\n",
        "!mkdir clase1"
      ]
    },
    {
      "cell_type": "code",
      "execution_count": null,
      "metadata": {
        "colab": {
          "base_uri": "https://localhost:8080/",
          "height": 34
        },
        "colab_type": "code",
        "id": "Zxkq2v7gP70D",
        "outputId": "a92d7d20-9932-4e95-885e-f232cde498f2"
      },
      "outputs": [
        {
          "name": "stdout",
          "output_type": "stream",
          "text": [
            "clase1\tsample_data\n"
          ]
        }
      ],
      "source": [
        "!ls"
      ]
    },
    {
      "cell_type": "code",
      "execution_count": null,
      "metadata": {
        "colab": {
          "base_uri": "https://localhost:8080/",
          "height": 34
        },
        "colab_type": "code",
        "id": "QzaFhdcnP9yk",
        "outputId": "bdfb4c06-cc7c-43c7-8e2a-ed9d0d321d94"
      },
      "outputs": [
        {
          "name": "stdout",
          "output_type": "stream",
          "text": [
            "clase1\tsample_data\n"
          ]
        }
      ],
      "source": [
        "!ls"
      ]
    },
    {
      "cell_type": "code",
      "execution_count": null,
      "metadata": {
        "colab": {
          "base_uri": "https://localhost:8080/",
          "height": 34
        },
        "colab_type": "code",
        "id": "gUYDnJhGQMgZ",
        "outputId": "1a4e0c2d-7799-4133-df6b-190d62f6ec89"
      },
      "outputs": [
        {
          "name": "stdout",
          "output_type": "stream",
          "text": [
            "clase1\tdrive  sample_data\n"
          ]
        }
      ],
      "source": [
        "!ls"
      ]
    },
    {
      "cell_type": "code",
      "execution_count": null,
      "metadata": {
        "colab": {
          "base_uri": "https://localhost:8080/",
          "height": 170
        },
        "colab_type": "code",
        "id": "SRaHk7y7SvH2",
        "outputId": "3eb02513-9ef0-4a55-c2bd-d1cdfbad726a"
      },
      "outputs": [
        {
          "name": "stdout",
          "output_type": "stream",
          "text": [
            "Clases 202010\n",
            "Fisica 1 201802\n",
            "Física2-201720\n",
            "FisicaBasica1 - 2019 - 2\n",
            "FisicaBasica2 - 2019 - Inter\n",
            "FuncionesNoLineales - 2020 - 20\n",
            "HerramientasComputacionales\n",
            "LibrosFisica\n",
            "OndasyFluidos-201720\n"
          ]
        }
      ],
      "source": [
        "%%bash \n",
        "cd drive/\"My Drive\"/ClasesUniandes\n",
        "ls"
      ]
    },
    {
      "cell_type": "code",
      "execution_count": null,
      "metadata": {
        "colab": {},
        "colab_type": "code",
        "id": "0K9ySLzFTD63"
      },
      "outputs": [],
      "source": [
        "# To Create a new directory\n",
        "%%bash\n",
        "cd drive/\"My Drive\"/ClasesUniandes\n",
        "mkdir HerramientasComputacionales"
      ]
    },
    {
      "cell_type": "code",
      "execution_count": null,
      "metadata": {
        "colab": {
          "base_uri": "https://localhost:8080/",
          "height": 170
        },
        "colab_type": "code",
        "id": "NsS1dltiUjsx",
        "outputId": "4d8b5bdd-72ad-4753-8c9c-865f177a4905"
      },
      "outputs": [
        {
          "name": "stdout",
          "output_type": "stream",
          "text": [
            "Clases 202010\n",
            "Fisica 1 201802\n",
            "Física2-201720\n",
            "FisicaBasica1 - 2019 - 2\n",
            "FisicaBasica2 - 2019 - Inter\n",
            "FuncionesNoLineales - 2020 - 20\n",
            "HerramientasComputacionales\n",
            "LibrosFisica\n",
            "OndasyFluidos-201720\n"
          ]
        }
      ],
      "source": [
        "%%bash \n",
        "cd drive/\"My Drive\"/ClasesUniandes\n",
        "ls"
      ]
    },
    {
      "cell_type": "code",
      "execution_count": null,
      "metadata": {
        "colab": {
          "base_uri": "https://localhost:8080/",
          "height": 34
        },
        "colab_type": "code",
        "id": "QOoUZzpKU0CE",
        "outputId": "ffe0f870-765c-4693-b9b9-150ec2cadee7"
      },
      "outputs": [
        {
          "name": "stdout",
          "output_type": "stream",
          "text": [
            "clase1.txt\n"
          ]
        }
      ],
      "source": [
        "# create a .txt file\n",
        "%%bash\n",
        "touch drive/\"My Drive\"/ClasesUniandes/HerramientasComputacionales/clase1.txt\n",
        "cd drive/\"My Drive\"/ClasesUniandes/HerramientasComputacionales/\n",
        "ls"
      ]
    },
    {
      "cell_type": "code",
      "execution_count": null,
      "metadata": {
        "colab": {
          "base_uri": "https://localhost:8080/",
          "height": 51
        },
        "colab_type": "code",
        "id": "KCJfbYuFcX9E",
        "outputId": "e13a16bc-bafa-46d0-d04d-f9d0001ea0af"
      },
      "outputs": [
        {
          "name": "stdout",
          "output_type": "stream",
          "text": [
            "total 0\n",
            "-rw------- 1 root root 0 Jul 31 19:55 clase1.txt\n"
          ]
        }
      ],
      "source": [
        "# List files with \n",
        "%%bash\n",
        "cd drive/\"My Drive\"/ClasesUniandes/HerramientasComputacionales/\n",
        "ls -l"
      ]
    },
    {
      "cell_type": "code",
      "execution_count": null,
      "metadata": {
        "colab": {
          "base_uri": "https://localhost:8080/",
          "height": 34
        },
        "colab_type": "code",
        "id": "-ykGmsh0dNju",
        "outputId": "8ad581f2-960f-4a7c-da78-6a57cf44f1a5"
      },
      "outputs": [
        {
          "name": "stdout",
          "output_type": "stream",
          "text": [
            " 110  660 3859 drive/My Drive/ClasesUniandes/HerramientasComputacionales/01_notas.tsv\n"
          ]
        }
      ],
      "source": [
        "# Word Count the file \n",
        "%%bash\n",
        "wc drive/\"My Drive\"/ClasesUniandes/HerramientasComputacionales/01_notas.tsv"
      ]
    },
    {
      "cell_type": "code",
      "execution_count": null,
      "metadata": {
        "colab": {
          "base_uri": "https://localhost:8080/",
          "height": 1000
        },
        "colab_type": "code",
        "id": "YWb0SmUOd5-4",
        "outputId": "f1018c92-b5e7-4469-86be-3e2116354e3f"
      },
      "outputs": [
        {
          "name": "stdout",
          "output_type": "stream",
          "text": [
            "#Nombres\tApellidos\tCarrera\tP1\tP2\tP3\r\n",
            "Germán\tChaparro\tINGSIS\t2.5\t3.8\t3.8\r\n",
            "Jaime\tForero\tBIOLOG\t2.1\t3.1\t3.6\r\n",
            "Felipe\tGómez\tBIOLOG\t4.3\t2.1\t3.0\r\n",
            "Verónica\tArias\tINGCIV\t1.5\t2.4\t3.0\r\n",
            "Ingrid\tGuasca\tGEOFIS\t1.6\t2.0\t2.4\r\n",
            "Diana\tCubillos\tGEOFIS\t4.5\t2.6\t1.4\r\n",
            "Framsol\tLópez\tBIOLOG\t3.0\t3.4\t4.8\r\n",
            "Fabio\tLora\tINGELE\t4.8\t4.7\t4.9\r\n",
            "Jerson\tReina\tINGCIV\t3.9\t4.3\t1.9\r\n",
            "Marleny\tTarquino\tINGELE\t1.5\t3.5\t3.5\r\n",
            "Javier\tSerna\tMATEMA\t1.2\t3.6\t4.0\r\n",
            "Angela\tHenao\tINGSIS\t3.5\t4.5\t1.5\r\n",
            "Mauricio\tChacón\tBIOLOG\t3.5\t1.0\t1.3\r\n",
            "Fanny\tPuentes\tINGELE\t3.9\t2.5\t4.2\r\n",
            "Joe\tGarcía\tFISICA\t2.2\t4.4\t4.8\r\n",
            "GianPool\tPulido\tINGCIV\t2.9\t2.9\t1.6\r\n",
            "Giovanni\tCardona\tINGCIV\t1.3\t3.2\t4.1\r\n",
            "Germán\tPuerta\tINGMEC\t1.8\t2.5\t1.8\r\n",
            "Jennifer\tGrisales\tINGIND\t2.5\t3.3\t2.8\r\n",
            "Oswaldo\tNieto\tGEOFIS\t2.4\t2.1\t2.7\r\n",
            "Katherine\tVieira\tINGSIS\t1.6\t4.4\t1.2\r\n",
            "María\tCeferino\tINGMEC\t1.0\t4.1\t3.0\r\n",
            "Laura\tQuiceno\tINGSIS\t1.3\t3.7\t4.5\r\n",
            "Juan\tGarcia\tFISICA\t1.2\t3.6\t2.1\r\n",
            "Carlos\tMolina\tBIOLOG\t1.4\t4.0\t4.8\r\n",
            "José\tIshitsuka\tINGCIV\t4.7\t4.3\t4.3\r\n",
            "Stefania\tAguilar\tINGMEC\t3.4\t3.5\t1.7\r\n",
            "Christian\tSarmiento\tINGSIS\t5.0\t4.8\t4.8\r\n",
            "Adriana\tVásques\tMATEMA\t2.2\t2.0\t1.3\r\n",
            "Mauricio\tSuárez\tINGMEC\t4.1\t3.2\t4.6\r\n",
            "Jesús\tBonilla\tMATEMA\t3.3\t4.1\t3.8\r\n",
            "Milton\tRuiz\tINGIND\t2.1\t1.9\t4.0\r\n",
            "Nicanor\tPoveda\tINGELE\t1.1\t3.4\t4.9\r\n",
            "Nelson\tVera\tINGSIS\t1.3\t4.5\t1.1\r\n",
            "Jhonattan\tPisco\tMATEMA\t1.1\t2.8\t2.4\r\n",
            "Cristina\tBonilla\tBIOLOG\t2.9\t2.3\t4.2\r\n",
            "Ernesto\tAgreda\tINGELE\t2.2\t3.1\t2.0\r\n",
            "Viviana\tMárquez\tGEOFIS\t3.1\t2.3\t1.3\r\n",
            "Julián\tJiménez\tFISICA\t2.8\t2.4\t4.3\r\n",
            "Jose\tCampos\tINGELE\t2.3\t2.7\t1.7\r\n",
            "Janett\tBarbosa\tGEOFIS\t1.7\t4.7\t4.0\r\n",
            "Alexander\tBonilla\tMATEMA\t2.4\t3.7\t3.5\r\n",
            "Alejandro\tCárdenas\tINGIND\t1.0\t1.2\t1.2\r\n",
            "Mario\tHiguera\tINGCIV\t4.7\t3.2\t1.9\r\n",
            "Oscar\tPimentel\tFISICA\t3.8\t4.4\t2.1\r\n",
            "Pilar\tBecerra\tGEOFIS\t1.3\t4.8\t1.9\r\n",
            "Lina\tBecerra\tMATEMA\t3.2\t3.2\t4.4\r\n",
            "Farid\tChar\tINGELE\t4.3\t2.7\t1.4\r\n",
            "Oscar\tMartínez\tBIOLOG\t4.4\t1.0\t2.2\r\n",
            "Jonathan\tQuirola\tGEOFIS\t4.9\t3.2\t3.9\r\n",
            "Patricio\tMena\tINGELE\t1.4\t3.6\t1.5\r\n",
            "Paola\tCastaño\tINGIND\t3.8\t2.1\t3.7\r\n",
            "Martha\tValencia\tINGIND\t3.6\t4.5\t1.7\r\n",
            "Andrei\tJaimes\tBIOLOG\t2.0\t1.0\t2.0\r\n",
            "Camilo\tGuevara\tINGSIS\t3.5\t1.9\t3.9\r\n",
            "Rigoberto\tCasas\tGEOFIS\t4.6\t2.8\t4.2\r\n",
            "Santiago\tVargas\tMATEMA\t3.2\t3.3\t2.2\r\n",
            "Giovanni\tPinzón\tFISICA\t1.3\t4.9\t3.0\r\n",
            "Yesid\tMolina\tGEOFIS\t4.7\t2.2\t2.7\r\n",
            "Joseph\tRamos\tINGCIV\t2.7\t1.4\t3.5\r\n",
            "Eduardo\tVasques\tINGELE\t3.3\t2.5\t2.8\r\n",
            "Jair\tRiaño\tINGMEC\t4.7\t2.9\t2.4\r\n",
            "Guillermo\tGonzález\tINGMEC\t4.9\t3.3\t2.6\r\n",
            "Nobar\tBaella\tINGELE\t3.6\t1.1\t4.6\r\n",
            "Aura\tRamírez\tGEOFIS\t3.5\t1.6\t4.1\r\n",
            "Antonio\tBenavidez\tGEOFIS\t2.1\t3.5\t1.6\r\n",
            "Omar\tBohorquez\tINGCIV\t2.0\t1.1\t4.8\r\n",
            "Andres\tRamos\tINGSIS\t1.8\t4.6\t4.7\r\n",
            "Julián\tPico\tFISICA\t3.4\t4.9\t2.1\r\n",
            "Leonardo\tDubeibe\tINGMEC\t3.3\t4.4\t4.3\r\n",
            "Esperanza\tArebalo\tINGIND\t3.9\t5.0\t3.2\r\n",
            "Freddy\tMoreno\tINGMEC\t3.8\t3.8\t1.2\r\n",
            "Eduardo\tMafla\tINGMEC\t3.4\t1.4\t1.5\r\n",
            "Juanita\tAriza\tBIOLOG\t3.3\t4.1\t4.8\r\n",
            "Maria\tZárate\tINGIND\t1.5\t1.1\t2.6\r\n",
            "Juan\tBuitrago\tINGIND\t4.8\t3.6\t4.5\r\n",
            "Jorge\tGarcia\tBIOLOG\t4.6\t3.8\t4.4\r\n",
            "Mauricio\tVinasco\tINGMEC\t4.8\t3.4\t4.0\r\n",
            "Lina\tBenitez\tMATEMA\t4.8\t2.1\t4.7\r\n",
            "Carlos\tCuervo\tMATEMA\t2.9\t4.8\t3.7\r\n",
            "Germán\tFajardo\tFISICA\t4.2\t1.9\t1.7\r\n",
            "Andrés\tTorres\tINGSIS\t2.1\t3.0\t3.9\r\n",
            "Ronald\tAvendaño\tFISICA\t3.3\t1.6\t2.1\r\n",
            "Jehison\tRodríguez\tINGMEC\t3.9\t2.5\t2.8\r\n",
            "Nicolás\tAmado\tFISICA\t2.1\t4.7\t4.6\r\n",
            "Fernando\tCruz\tMATEMA\t3.4\t2.0\t1.5\r\n",
            "Andrey\tAcosta\tMATEMA\t2.3\t1.9\t3.0\r\n",
            "Karla\tCutiva\tINGSIS\t3.2\t1.4\t4.3\r\n",
            "Carolina\tReyes\tINGELE\t3.2\t4.7\t1.4\r\n",
            "Alexander\tMoreno\tINGELE\t1.1\t2.5\t3.8\r\n",
            "Andrea\tSerna\tINGSIS\t3.8\t4.0\t1.1\r\n",
            "Juan\tArias\tBIOLOG\t1.8\t3.3\t2.2\r\n",
            "Héctor\tRago\tFISICA\t2.1\t2.6\t4.4\r\n",
            "Carlos\tVera\tINGSIS\t2.4\t2.2\t2.9\r\n",
            "Nicolás\tVásquez\tINGIND\t2.4\t1.6\t3.0\r\n",
            "David\tTovar\tINGIND\t2.1\t4.7\t2.5\r\n",
            "Hamilton\tGalvis\tINGCIV\t1.4\t4.5\t1.3\r\n",
            "Julián\tCorzo\tINGIND\t4.4\t4.1\t3.2\r\n",
            "Christian\tMoreno\tINGIND\t4.2\t3.6\t2.8\r\n",
            "Oscar\tRestrepo\tINGCIV\t4.8\t1.3\t2.7\r\n",
            "Javier\tSánches\tBIOLOG\t3.8\t3.5\t2.5\r\n",
            "William\tMedina\tGEOFIS\t4.4\t3.9\t1.1\r\n",
            "Alexander\tMartínez\tINGCIV\t3.3\t4.3\t4.9\r\n",
            "Andrés\tGranados\tINGMEC\t2.0\t2.8\t4.6\r\n",
            "Juan\tMuñoz\tINGCIV\t1.0\t4.8\t1.7\r\n",
            "Lorena\tJiménez\tFISICA\t4.5\t1.2\t2.8\r\n",
            "Edilberto\tSuárez\tMATEMA\t1.1\t4.1\t1.4\r\n",
            "Ingrid\tBlanco\tINGMEC\t4.7\t2.4\t3.6\r\n",
            "Juliette\tBermudez\tFISICA\t3.3\t3.6\t2.4\r\n"
          ]
        }
      ],
      "source": [
        "# Print the contents of the .txt file \n",
        "%%bash\n",
        "cat drive/\"My Drive\"/ClasesUniandes/HerramientasComputacionales/01_notas.tsv"
      ]
    },
    {
      "cell_type": "code",
      "execution_count": null,
      "metadata": {
        "colab": {},
        "colab_type": "code",
        "id": "g051MHQFfnoT"
      },
      "outputs": [],
      "source": [
        "# Print less terms on the terminal\n",
        "%%bash\n",
        "less drive/\"My Drive\"/ClasesUniandes/HerramientasComputacionales/01_notas.tsv"
      ]
    },
    {
      "cell_type": "code",
      "execution_count": null,
      "metadata": {
        "colab": {
          "base_uri": "https://localhost:8080/",
          "height": 187
        },
        "colab_type": "code",
        "id": "SjHVWK-6gZ-E",
        "outputId": "a21ef447-0d06-497f-e0cb-e649b740378c"
      },
      "outputs": [
        {
          "name": "stdout",
          "output_type": "stream",
          "text": [
            "#Nombres\tApellidos\tCarrera\tP1\tP2\tP3\r\n",
            "Germán\tChaparro\tINGSIS\t2.5\t3.8\t3.8\r\n",
            "Jaime\tForero\tBIOLOG\t2.1\t3.1\t3.6\r\n",
            "Felipe\tGómez\tBIOLOG\t4.3\t2.1\t3.0\r\n",
            "Verónica\tArias\tINGCIV\t1.5\t2.4\t3.0\r\n",
            "Ingrid\tGuasca\tGEOFIS\t1.6\t2.0\t2.4\r\n",
            "Diana\tCubillos\tGEOFIS\t4.5\t2.6\t1.4\r\n",
            "Framsol\tLópez\tBIOLOG\t3.0\t3.4\t4.8\r\n",
            "Fabio\tLora\tINGELE\t4.8\t4.7\t4.9\r\n",
            "Jerson\tReina\tINGCIV\t3.9\t4.3\t1.9\r\n"
          ]
        }
      ],
      "source": [
        "# Check the head of the .txt file\n",
        "%%bash\n",
        "head drive/\"My Drive\"/ClasesUniandes/HerramientasComputacionales/01_notas.tsv"
      ]
    },
    {
      "cell_type": "code",
      "execution_count": null,
      "metadata": {
        "colab": {
          "base_uri": "https://localhost:8080/",
          "height": 187
        },
        "colab_type": "code",
        "id": "4CzhaUkAgrHs",
        "outputId": "588f601b-fa9f-4e51-ae61-c4d761ef5d7a"
      },
      "outputs": [
        {
          "name": "stdout",
          "output_type": "stream",
          "text": [
            "Oscar\tRestrepo\tINGCIV\t4.8\t1.3\t2.7\r\n",
            "Javier\tSánches\tBIOLOG\t3.8\t3.5\t2.5\r\n",
            "William\tMedina\tGEOFIS\t4.4\t3.9\t1.1\r\n",
            "Alexander\tMartínez\tINGCIV\t3.3\t4.3\t4.9\r\n",
            "Andrés\tGranados\tINGMEC\t2.0\t2.8\t4.6\r\n",
            "Juan\tMuñoz\tINGCIV\t1.0\t4.8\t1.7\r\n",
            "Lorena\tJiménez\tFISICA\t4.5\t1.2\t2.8\r\n",
            "Edilberto\tSuárez\tMATEMA\t1.1\t4.1\t1.4\r\n",
            "Ingrid\tBlanco\tINGMEC\t4.7\t2.4\t3.6\r\n",
            "Juliette\tBermudez\tFISICA\t3.3\t3.6\t2.4\r\n"
          ]
        }
      ],
      "source": [
        "# Check the tail of the .txt file\n",
        "%%bash\n",
        "tail drive/\"My Drive\"/ClasesUniandes/HerramientasComputacionales/01_notas.tsv"
      ]
    },
    {
      "cell_type": "code",
      "execution_count": null,
      "metadata": {
        "colab": {
          "base_uri": "https://localhost:8080/",
          "height": 34
        },
        "colab_type": "code",
        "id": "bDzhC6DRgyfm",
        "outputId": "41da3562-2d6f-4335-d322-88eb4eb7b571"
      },
      "outputs": [
        {
          "name": "stdout",
          "output_type": "stream",
          "text": [
            "Hello World\n"
          ]
        }
      ],
      "source": [
        "# output redirection no undo button\n",
        "%%bash\n",
        "echo \"Hello World\" > drive/\"My Drive\"/ClasesUniandes/HerramientasComputacionales/clase1.txt\n",
        "cat drive/\"My Drive\"/ClasesUniandes/HerramientasComputacionales/clase1.txt"
      ]
    },
    {
      "cell_type": "code",
      "execution_count": null,
      "metadata": {
        "colab": {
          "base_uri": "https://localhost:8080/",
          "height": 51
        },
        "colab_type": "code",
        "id": "C0079iUUh3a7",
        "outputId": "ced14dff-a20f-4d61-886c-c5b963eaad6b"
      },
      "outputs": [
        {
          "name": "stdout",
          "output_type": "stream",
          "text": [
            "Hello World\n",
            "Hello Mars\n"
          ]
        }
      ],
      "source": [
        "# Append at the end no\n",
        "%%bash\n",
        "echo \"Hello Mars\" >> drive/\"My Drive\"/ClasesUniandes/HerramientasComputacionales/clase1.txt\n",
        "cat drive/\"My Drive\"/ClasesUniandes/HerramientasComputacionales/clase1.txt"
      ]
    },
    {
      "cell_type": "code",
      "execution_count": null,
      "metadata": {
        "colab": {
          "base_uri": "https://localhost:8080/",
          "height": 34
        },
        "colab_type": "code",
        "id": "eXgnSramibUJ",
        "outputId": "a5a50b3c-9560-4024-ce56-481be784bc64"
      },
      "outputs": [
        {
          "name": "stderr",
          "output_type": "stream",
          "text": [
            "bash: line 1: emacs: command not found\n"
          ]
        }
      ],
      "source": [
        "%%bash\n",
        "emacs drive/\"My Drive\"/ClasesUniandes/HerramientasComputacionales/clase1.txt"
      ]
    },
    {
      "cell_type": "markdown",
      "metadata": {
        "colab_type": "text",
        "id": "Lgobo2qxpHJd"
      },
      "source": [
        "**Exercises**\n",
        "\n",
        "Create a new directory called workbench in your home directory.\n",
        "Without changing directories create a file called readme.txt inside of workbench.\n",
        "Append the numbers 1, 2, and 3 to readme.txt so that each number appears on its own line.\n",
        "Print readme.txt to the command line.\n",
        "Use output redirection to create a new file in the workbench directory called list.txt which lists the files and folders in your home directory.\n",
        "Find out how many characters are in list.txt without opening the file or printing it to the command line.\n"
      ]
    },
    {
      "cell_type": "code",
      "execution_count": null,
      "metadata": {
        "colab": {},
        "colab_type": "code",
        "id": "pvtPeZ3xn8no"
      },
      "outputs": [],
      "source": [
        "%%bash\n",
        "ls ~/ > drive/\"My Drive\"/ClasesUniandes/HerramientasComputacionales/list.txt"
      ]
    },
    {
      "cell_type": "code",
      "execution_count": null,
      "metadata": {
        "colab": {},
        "colab_type": "code",
        "id": "ygkL1b_Grvx6"
      },
      "outputs": [],
      "source": [
        "%%bash\n",
        "ls drive/\"My Drive\" > drive/\"My Drive\"/ClasesUniandes/HerramientasComputacionales/list.txt"
      ]
    },
    {
      "cell_type": "code",
      "execution_count": null,
      "metadata": {
        "colab": {
          "base_uri": "https://localhost:8080/",
          "height": 323
        },
        "colab_type": "code",
        "id": "GCpER8V9rzih",
        "outputId": "decdd9b8-f011-4b54-fc74-97db54b1b8d2"
      },
      "outputs": [
        {
          "name": "stdout",
          "output_type": "stream",
          "text": [
            "ClasesUnal\n",
            "ClasesUniandes\n",
            "Colab Notebooks\n",
            "Colab Notebooks (1)\n",
            "cover_letter.docx\n",
            "cover_letter.gdoc\n",
            "Feuille de calcul sans titre.gsheet\n",
            "Fisica y ML\n",
            "Otros\n",
            "Projects Data Science\n",
            "ProjectsJava\n",
            "SeminarioDeInvestigacion-Useche\n",
            "Statement of Purpose, Columbia, Diego Useche.docx\n",
            "Statement of Purpose, Columbia, Diego Useche.gdoc\n",
            "Tesis Maestria - 2\n",
            "Useche - Seminario de Investigacion 1\n",
            "WRITTING 8.docx\n",
            "WRITTING 8.gdoc\n"
          ]
        }
      ],
      "source": [
        "%%bash\n",
        "cat drive/\"My Drive\"/ClasesUniandes/HerramientasComputacionales/list.txt"
      ]
    },
    {
      "cell_type": "markdown",
      "metadata": {
        "colab_type": "text",
        "id": "DA5xAthD2ow5"
      },
      "source": [
        "## **Migration and Destruction**"
      ]
    },
    {
      "cell_type": "code",
      "execution_count": null,
      "metadata": {
        "colab": {
          "base_uri": "https://localhost:8080/",
          "height": 136
        },
        "colab_type": "code",
        "id": "jMf6RctJ3qg6",
        "outputId": "d3fbbc58-4971-45ef-ded8-794a9874b0f2"
      },
      "outputs": [
        {
          "name": "stdout",
          "output_type": "stream",
          "text": [
            "01_notas.tsv\n",
            "clase1.txt\n",
            "Journal\n",
            "journal-2017-01-24.txt\n",
            "list.txt\n",
            "notas_fisicaII_201320.dat\n"
          ]
        },
        {
          "name": "stderr",
          "output_type": "stream",
          "text": [
            "mkdir: cannot create directory ‘Journal’: File exists\n"
          ]
        }
      ],
      "source": [
        "## Move files create a directory called Journal\n",
        "%%bash\n",
        "cd drive/\"My Drive\"/ClasesUniandes/HerramientasComputacionales/\n",
        "mkdir Journal\n",
        "ls"
      ]
    },
    {
      "cell_type": "code",
      "execution_count": null,
      "metadata": {
        "colab": {
          "base_uri": "https://localhost:8080/",
          "height": 34
        },
        "colab_type": "code",
        "id": "nDZ2ou5u4KN_",
        "outputId": "c7df4533-756d-4b0f-ab0e-baf12c5bc859"
      },
      "outputs": [
        {
          "name": "stdout",
          "output_type": "stream",
          "text": [
            "HelloWorld\n"
          ]
        }
      ],
      "source": [
        "## Create a file called prueba2.txt write \"Hello World\" on prueba2.txt\n",
        "%%bash\n",
        "cd drive/\"My Drive\"/ClasesUniandes/HerramientasComputacionales/\n",
        "touch prueba2.txt\n",
        "echo \"HelloWorld\" > prueba2.txt\n",
        "cat prueba2.txt"
      ]
    },
    {
      "cell_type": "code",
      "execution_count": null,
      "metadata": {
        "colab": {},
        "colab_type": "code",
        "id": "KpVOvOFs4oBF"
      },
      "outputs": [],
      "source": [
        "## Move prueba2.txt to Journal use \"cp\" for copy a file in the same way\n",
        "%%bash\n",
        "mv drive/\"My Drive\"/ClasesUniandes/HerramientasComputacionales/prueba2.txt drive/\"My Drive\"/ClasesUniandes/HerramientasComputacionales/Journal"
      ]
    },
    {
      "cell_type": "markdown",
      "metadata": {
        "colab_type": "text",
        "id": "8Q9JtorT9A3h"
      },
      "source": [
        "**Exercises**\n",
        "Create a file called message.txt in your home directory and move it into another directory.\n",
        "Copy the message.txt you just moved into your home directory.\n",
        "Delete both copies of message.txt. Try to do this without using rm."
      ]
    },
    {
      "cell_type": "markdown",
      "metadata": {
        "colab_type": "text",
        "id": "Y-9e8F9I1mw_"
      },
      "source": [
        "##**Self-Help**"
      ]
    },
    {
      "cell_type": "code",
      "execution_count": null,
      "metadata": {
        "colab": {},
        "colab_type": "code",
        "id": "LpH8UWvq7H2S"
      },
      "outputs": [],
      "source": [
        "# Check the manual of the comman\n",
        "!man ls"
      ]
    },
    {
      "cell_type": "markdown",
      "metadata": {
        "colab_type": "text",
        "id": "NOkQwMri5nIq"
      },
      "source": [
        "**Exercises**\n",
        "\n",
        "Use man to look up the flag for human-readable output from ls.\n",
        "Get help with man by typing man man into the console.\n",
        "Wouldn’t it be nice if there was a calendar command? Use apropos to look for such a command, then use man to read about how that command works."
      ]
    },
    {
      "cell_type": "markdown",
      "metadata": {
        "colab_type": "text",
        "id": "5czk2Gda58eI"
      },
      "source": [
        "## **Get Wild**"
      ]
    },
    {
      "cell_type": "code",
      "execution_count": null,
      "metadata": {
        "colab": {
          "base_uri": "https://localhost:8080/",
          "height": 102
        },
        "colab_type": "code",
        "id": "03wIqZlE17ao",
        "outputId": "4c072de0-dda0-4a5a-f60a-cceb3c1aac22"
      },
      "outputs": [
        {
          "name": "stdout",
          "output_type": "stream",
          "text": [
            "Lista - Fisica1 - 2020 -10.docx\n",
            "Preparcial2-Fisic1- 2020 - 02.docx\n",
            "Problemas Prefinal Física 1.docx\n",
            "Taller 0 - Fisica1 - 202010.docx\n",
            "Taller 7 Ejercicios Tablero Física 1.docx\n"
          ]
        }
      ],
      "source": [
        "# Use \"*\" for continuation of characters\n",
        "%%bash\n",
        "cd drive/\"My Drive\"/ClasesUniandes/\"Clases 202010\"/\"Fisica1-202010\"\n",
        "ls *.docx"
      ]
    },
    {
      "cell_type": "markdown",
      "metadata": {
        "colab_type": "text",
        "id": "R-lbTac79MDo"
      },
      "source": [
        "**Exercises**\n",
        "\n",
        "Before I organized the photos by year, what command would have listed all of the photos of type .png?\n",
        "Before I organized the photos by year, what command would have deleted all of my hiking photos?\n",
        "What series of commands would you use in order to put my figures for a data science course and the pictures I took in the lab into their own folders?"
      ]
    },
    {
      "cell_type": "markdown",
      "metadata": {
        "colab_type": "text",
        "id": "vPuPOvsI_Jxk"
      },
      "source": [
        "## **Search**"
      ]
    },
    {
      "cell_type": "code",
      "execution_count": null,
      "metadata": {
        "colab": {},
        "colab_type": "code",
        "id": "AFQQGEet8IT9"
      },
      "outputs": [],
      "source": [
        "## Download A file from the internet\n",
        "%%bash\n",
        "cd drive/\"My Drive\"/ClasesUniandes/HerramientasComputacionales/\n",
        "wget http://seankross.com/notes/states.txt\n",
        "ls"
      ]
    },
    {
      "cell_type": "code",
      "execution_count": null,
      "metadata": {
        "colab": {
          "base_uri": "https://localhost:8080/",
          "height": 85
        },
        "colab_type": "code",
        "id": "aU7ybeeE_RUC",
        "outputId": "7b058760-ef4a-4922-b8c9-f6f793d3ecb0"
      },
      "outputs": [
        {
          "name": "stdout",
          "output_type": "stream",
          "text": [
            "California\n",
            "Pennsylvania\n",
            "Virginia\n",
            "West Virginia\n"
          ]
        }
      ],
      "source": [
        "# search a character within the document with \"grep\"\n",
        "%%bash\n",
        "cd drive/\"My Drive\"/ClasesUniandes/HerramientasComputacionales/\n",
        "grep \"nia\" states.txt"
      ]
    },
    {
      "cell_type": "markdown",
      "metadata": {
        "colab_type": "text",
        "id": "zYA5Q42FUbQR"
      },
      "source": [
        "## **Find**"
      ]
    },
    {
      "cell_type": "code",
      "execution_count": null,
      "metadata": {
        "colab": {
          "base_uri": "https://localhost:8080/",
          "height": 34
        },
        "colab_type": "code",
        "id": "kHNMYe9U_qIb",
        "outputId": "afbc16f0-df09-4699-9ebb-27cb513820b4"
      },
      "outputs": [
        {
          "name": "stdout",
          "output_type": "stream",
          "text": [
            "./HerramientasComputacionales/states.txt\n"
          ]
        }
      ],
      "source": [
        "# search a file in a directory with \"find\" and the flag -name\n",
        "%%bash\n",
        "cd drive/\"My Drive\"/ClasesUniandes/\n",
        "find ./ -name \"states.txt\""
      ]
    },
    {
      "cell_type": "markdown",
      "metadata": {
        "colab_type": "text",
        "id": "ov-jqN6fVqpq"
      },
      "source": [
        "## **Exercises**\n",
        "\n",
        "Search states.txt and canada.txt for lines that contain the word “New”.\n",
        "Make five text files containing the names of states that don’t contain one of each of the five vowels.\n",
        "Download the GitHub repository for this book and find out how many .html files it contains."
      ]
    },
    {
      "cell_type": "code",
      "execution_count": null,
      "metadata": {
        "colab": {},
        "colab_type": "code",
        "id": "gUH6tEXCUZGK"
      },
      "outputs": [],
      "source": []
    },
    {
      "cell_type": "markdown",
      "metadata": {
        "colab_type": "text",
        "id": "13RG3xzyUuxu"
      },
      "source": [
        "## Pipe "
      ]
    },
    {
      "cell_type": "code",
      "execution_count": null,
      "metadata": {
        "colab": {
          "base_uri": "https://localhost:8080/",
          "height": 102
        },
        "colab_type": "code",
        "id": "qagqqRSxUwoL",
        "outputId": "7d0ed840-72b8-4428-93a4-2ba5e66585f9"
      },
      "outputs": [
        {
          "name": "stdout",
          "output_type": "stream",
          "text": [
            "Alabama\n",
            "Alaska\n",
            "Arizona\n",
            "Arkansas\n",
            "California\n"
          ]
        }
      ],
      "source": [
        "# Use the \"|\" for output of the file as the input of another command\n",
        "%%bash\n",
        "cd drive/\"My Drive\"/ClasesUniandes/HerramientasComputacionales/\n",
        "cat states.txt | head -n 5"
      ]
    },
    {
      "cell_type": "code",
      "execution_count": null,
      "metadata": {
        "colab": {
          "base_uri": "https://localhost:8080/",
          "height": 34
        },
        "colab_type": "code",
        "id": "hpBeBa7IVzXg",
        "outputId": "1ac57d36-1c58-4463-acff-85b93fec8605"
      },
      "outputs": [
        {
          "name": "stdout",
          "output_type": "stream",
          "text": [
            "32\n"
          ]
        }
      ],
      "source": [
        "# Count the number of states that end with a letter\n",
        "%%bash\n",
        "cd drive/\"My Drive\"/ClasesUniandes/HerramientasComputacionales/\n",
        "grep \"[aeiou]$\" states.txt | wc -l"
      ]
    },
    {
      "cell_type": "markdown",
      "metadata": {
        "colab_type": "text",
        "id": "4BNPGq8BXusa"
      },
      "source": [
        "**Exercises**\n",
        "\n",
        "Use pipes to figure out how many US states contain the word “New.”\n",
        "\n",
        "Examine your ~/.bash_history to try to figure out how many unique commands you’ve ever used. (You may need to look up how to use the uniq and sort commands)."
      ]
    },
    {
      "cell_type": "code",
      "execution_count": null,
      "metadata": {
        "colab": {
          "base_uri": "https://localhost:8080/",
          "height": 34
        },
        "colab_type": "code",
        "id": "d0o6l33jXP2i",
        "outputId": "b7fb6a41-02b9-4665-ab06-67d12532fca0"
      },
      "outputs": [
        {
          "name": "stdout",
          "output_type": "stream",
          "text": [
            "4\n"
          ]
        }
      ],
      "source": [
        "# Count the number of states that end with a letter\n",
        "%%bash\n",
        "cd drive/\"My Drive\"/ClasesUniandes/HerramientasComputacionales/\n",
        "grep \"New\" states.txt | wc -l"
      ]
    },
    {
      "cell_type": "markdown",
      "metadata": {
        "colab_type": "text",
        "id": "1afA6M3rTVah"
      },
      "source": [
        "##**Git**"
      ]
    },
    {
      "cell_type": "code",
      "execution_count": null,
      "metadata": {
        "colab": {},
        "colab_type": "code",
        "id": "NfiOqLmOTYnr"
      },
      "outputs": [],
      "source": [
        "## Enter to github with your account\n",
        "\n",
        "# git config --global user.name \"myUserName\"\n",
        "# git config --global user.email myName@email.com"
      ]
    },
    {
      "cell_type": "code",
      "execution_count": null,
      "metadata": {
        "colab": {},
        "colab_type": "code",
        "id": "uKYBXERZUjLr"
      },
      "outputs": [],
      "source": [
        "# Initialize the git in a folder\n",
        "\n",
        "# git init"
      ]
    },
    {
      "cell_type": "code",
      "execution_count": null,
      "metadata": {
        "colab": {},
        "colab_type": "code",
        "id": "jhLjRi1nXcT_"
      },
      "outputs": [],
      "source": [
        "# Add a file in git folder\n",
        "\n",
        "# git add readme.txt"
      ]
    },
    {
      "cell_type": "code",
      "execution_count": null,
      "metadata": {
        "colab": {},
        "colab_type": "code",
        "id": "noR2dEmNXiIJ"
      },
      "outputs": [],
      "source": [
        "# Commit changes in git\n",
        "\n",
        "# git commit -m \"added readme.txt\""
      ]
    },
    {
      "cell_type": "code",
      "execution_count": null,
      "metadata": {
        "colab": {},
        "colab_type": "code",
        "id": "Ox8JdfmEYXao"
      },
      "outputs": [],
      "source": [
        "# Undo changes in git\n",
        "\n",
        "# git reset --soft HEAD~"
      ]
    },
    {
      "cell_type": "markdown",
      "metadata": {
        "colab_type": "text",
        "id": "sww4-QfaZRi1"
      },
      "source": [
        "Exercises\n",
        "\n",
        "Start a repository in a new directory.\n",
        "Create a new file in your new Git repository.\n",
        "Make sure Git is tracking the file and then create a new commit.Make changes to the file, and then commit these changes.\n",
        "Add two new files to your repository, but only commit one of them.\n",
        "What is the status of your repository after the commit?Undo the last commit, add the untracked file, and redo the commit."
      ]
    },
    {
      "cell_type": "markdown",
      "metadata": {
        "colab_type": "text",
        "id": "_p2tkbVAyoaK"
      },
      "source": [
        "## **Git Branches**"
      ]
    },
    {
      "cell_type": "code",
      "execution_count": null,
      "metadata": {
        "colab": {},
        "colab_type": "code",
        "id": "IoCYfjp0ZTZh"
      },
      "outputs": [],
      "source": [
        "# List all branches\n",
        "\n",
        "# git branch"
      ]
    },
    {
      "cell_type": "code",
      "execution_count": null,
      "metadata": {
        "colab": {},
        "colab_type": "code",
        "id": "KinAGJR-0ChB"
      },
      "outputs": [],
      "source": [
        "# Create a new branch \n",
        "\n",
        "# git branch my-new-feature\n",
        "\n",
        "# Change to my-new-feature\n",
        "\n",
        "# git checkout my-new-feature"
      ]
    },
    {
      "cell_type": "code",
      "execution_count": null,
      "metadata": {
        "colab": {},
        "colab_type": "code",
        "id": "fXt3dd62E7Yc"
      },
      "outputs": [],
      "source": [
        "# Merge a branch to master\n",
        "\n",
        "# git checkout master\n",
        "# git merge my-new-feature"
      ]
    },
    {
      "cell_type": "markdown",
      "metadata": {
        "colab_type": "text",
        "id": "vjJ8j1fPKiHQ"
      },
      "source": [
        "**Exercises**\n",
        "\n",
        "Start a new branch.\n",
        "Switch to that branch and add commits to it. Switch to an older branch and then merge the new branch into your current branch.\n",
        "Purposefully create and resolve a merge conflict."
      ]
    },
    {
      "cell_type": "markdown",
      "metadata": {
        "colab_type": "text",
        "id": "iSwtwyXOk675"
      },
      "source": [
        "## **GitHub**"
      ]
    },
    {
      "cell_type": "code",
      "execution_count": null,
      "metadata": {
        "colab": {},
        "colab_type": "code",
        "id": "UGIQapxjk6M-"
      },
      "outputs": [],
      "source": [
        "## Connect git with github \n",
        "# git remote add origin https://github.com/seankross/my-first-repo.git"
      ]
    },
    {
      "cell_type": "code",
      "execution_count": null,
      "metadata": {
        "colab": {},
        "colab_type": "code",
        "id": "ln0WXaftKk0J"
      },
      "outputs": [],
      "source": [
        "# Push the master branch to remote gihub\n",
        "# git push -u origin master"
      ]
    },
    {
      "cell_type": "code",
      "execution_count": null,
      "metadata": {
        "colab": {},
        "colab_type": "code",
        "id": "QPQ4GpnKltWH"
      },
      "outputs": [],
      "source": []
    }
  ],
  "metadata": {
    "colab": {
      "name": "IntroductionLinux.ipynb",
      "provenance": [],
      "toc_visible": true
    },
    "kernelspec": {
      "display_name": "Python 3",
      "name": "python3"
    }
  },
  "nbformat": 4,
  "nbformat_minor": 0
}
