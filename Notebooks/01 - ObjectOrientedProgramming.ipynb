{
 "cells": [
  {
   "cell_type": "markdown",
   "metadata": {
    "id": "GzkG4LcQt4-1"
   },
   "source": [
    "# Introduction to Python\n",
    "\n",
    "## Object Oriented Programming\n",
    "\n",
    "## Metodos Computacionales 1\n",
    "## Uniandes\n",
    "\n",
    "Based on [SoloLearn Python](https://www.sololearn.com/Play/Python)"
   ]
  },
  {
   "cell_type": "markdown",
   "metadata": {
    "id": "DIWNOCWsuHEo"
   },
   "source": [
    "## Class Constructor \\__init__"
   ]
  },
  {
   "cell_type": "code",
   "execution_count": 43,
   "metadata": {
    "id": "nekteyH-t-Wz"
   },
   "outputs": [],
   "source": [
    "class Cat:\n",
    "    def __init__(self, color, legs):\n",
    "        self.color = color\n",
    "        self.legs = legs\n",
    "        print(\"a\")\n",
    "    def get_color(self):\n",
    "        return self.color"
   ]
  },
  {
   "cell_type": "code",
   "execution_count": 46,
   "metadata": {
    "id": "ou-hiM2ruRIA"
   },
   "outputs": [
    {
     "name": "stdout",
     "output_type": "stream",
     "text": [
      "a\n",
      "a\n",
      "a\n"
     ]
    }
   ],
   "source": [
    "# Class Instances\n",
    "felix = Cat(\"ginger\", 4)\n",
    "rover = Cat(\"dog-colored\", 4)\n",
    "stumpy = Cat(\"brown\", 3)"
   ]
  },
  {
   "cell_type": "code",
   "execution_count": 42,
   "metadata": {},
   "outputs": [
    {
     "data": {
      "text/plain": [
       "'ginger'"
      ]
     },
     "execution_count": 42,
     "metadata": {},
     "output_type": "execute_result"
    }
   ],
   "source": [
    "felix.get_color()"
   ]
  },
  {
   "cell_type": "markdown",
   "metadata": {
    "id": "483VbCVCvKuV"
   },
   "source": [
    "## Methods"
   ]
  },
  {
   "cell_type": "code",
   "execution_count": 45,
   "metadata": {
    "id": "NA7ZfNpfuX_Z"
   },
   "outputs": [],
   "source": [
    "class Cat:\n",
    "    def __init__(self, color, legs):\n",
    "        self.color = color\n",
    "        self.legs = legs\n",
    "        print(\"a\")\n",
    "    def meow(self):\n",
    "        print(\"miau\")"
   ]
  },
  {
   "cell_type": "code",
   "execution_count": 49,
   "metadata": {
    "colab": {
     "base_uri": "https://localhost:8080/",
     "height": 34
    },
    "executionInfo": {
     "elapsed": 424,
     "status": "ok",
     "timestamp": 1601414568997,
     "user": {
      "displayName": "Diego Useche Reyes",
      "photoUrl": "https://lh3.googleusercontent.com/a-/AOh14Gg6lrk9agmplTKK54rGVqavR8_tM4odcJqDil2B2w=s64",
      "userId": "02270832771774592167"
     },
     "user_tz": 300
    },
    "id": "DDkT2sylvrYD",
    "outputId": "24a70fd2-58fc-49d9-cf8e-3c521ec47caa"
   },
   "outputs": [
    {
     "name": "stdout",
     "output_type": "stream",
     "text": [
      "miau\n"
     ]
    }
   ],
   "source": [
    "rover.meow()"
   ]
  },
  {
   "cell_type": "markdown",
   "metadata": {
    "id": "EjZeyD9kwkQ5"
   },
   "source": [
    "## Inheritance"
   ]
  },
  {
   "cell_type": "code",
   "execution_count": 65,
   "metadata": {
    "id": "BE2AgeyAvwI9"
   },
   "outputs": [],
   "source": [
    "class Wolf:\n",
    "    def __init__(self, name, color):\n",
    "        self.name = name\n",
    "        self.color = color\n",
    "    \n",
    "    def bark(self):\n",
    "        print(\"Woof\")\n",
    "        "
   ]
  },
  {
   "cell_type": "code",
   "execution_count": 67,
   "metadata": {},
   "outputs": [],
   "source": [
    "class Dog(Wolf):\n",
    "    #pass\n",
    "    def saludar(self): ## Sobreescribir el metodo\n",
    "        print(\"Guau gua\")"
   ]
  },
  {
   "cell_type": "code",
   "execution_count": 68,
   "metadata": {
    "colab": {
     "base_uri": "https://localhost:8080/",
     "height": 34
    },
    "executionInfo": {
     "elapsed": 475,
     "status": "ok",
     "timestamp": 1601419675105,
     "user": {
      "displayName": "Diego Useche Reyes",
      "photoUrl": "https://lh3.googleusercontent.com/a-/AOh14Gg6lrk9agmplTKK54rGVqavR8_tM4odcJqDil2B2w=s64",
      "userId": "02270832771774592167"
     },
     "user_tz": 300
    },
    "id": "XqV2NXOjwo2o",
    "outputId": "7c4fc8f0-aad0-4021-f077-82d6615311e7"
   },
   "outputs": [
    {
     "name": "stdout",
     "output_type": "stream",
     "text": [
      "Woof\n",
      "Woof\n"
     ]
    },
    {
     "data": {
      "text/plain": [
       "(None, None)"
      ]
     },
     "execution_count": 68,
     "metadata": {},
     "output_type": "execute_result"
    }
   ],
   "source": [
    "husky = Dog(\"Max\", \"grey\")\n",
    "siberiano = Wolf(\"Andrez\", \"Red\")\n",
    "husky.bark(), siberiano.bark()"
   ]
  },
  {
   "cell_type": "code",
   "execution_count": 69,
   "metadata": {},
   "outputs": [
    {
     "name": "stdout",
     "output_type": "stream",
     "text": [
      "Guau gua\n"
     ]
    }
   ],
   "source": [
    "husky.saludar()"
   ]
  },
  {
   "cell_type": "markdown",
   "metadata": {
    "id": "tFVPTDfXxQtS"
   },
   "source": [
    "## Super\n",
    "\n"
   ]
  },
  {
   "cell_type": "code",
   "execution_count": null,
   "metadata": {
    "id": "hUX8y-iNw45K"
   },
   "outputs": [],
   "source": []
  },
  {
   "cell_type": "code",
   "execution_count": null,
   "metadata": {
    "colab": {
     "base_uri": "https://localhost:8080/",
     "height": 51
    },
    "executionInfo": {
     "elapsed": 346,
     "status": "ok",
     "timestamp": 1601415108118,
     "user": {
      "displayName": "Diego Useche Reyes",
      "photoUrl": "https://lh3.googleusercontent.com/a-/AOh14Gg6lrk9agmplTKK54rGVqavR8_tM4odcJqDil2B2w=s64",
      "userId": "02270832771774592167"
     },
     "user_tz": 300
    },
    "id": "HiM_hgCExzJZ",
    "outputId": "dc67cebc-2f49-40d1-c719-2bedf50c559a"
   },
   "outputs": [],
   "source": []
  },
  {
   "cell_type": "markdown",
   "metadata": {
    "id": "4BsreufK1WUr"
   },
   "source": [
    "## Example\n",
    "\n",
    "One warrior and one knight with health = 50, the warrior has variable attack, the knight has an attack of 55.\n",
    "The warrior attacks first, check who dies first."
   ]
  },
  {
   "cell_type": "code",
   "execution_count": 71,
   "metadata": {
    "id": "PLETgwyIx1Rn"
   },
   "outputs": [],
   "source": [
    "class Warrior:\n",
    "    def __init__(self, attack):\n",
    "        self.health = 50\n",
    "        self.attack = attack\n",
    "    def is_alive(self):\n",
    "        if self.health <= 0:\n",
    "            print(\"is dead\")\n",
    "        else:\n",
    "            print(\"is alive\")"
   ]
  },
  {
   "cell_type": "code",
   "execution_count": 72,
   "metadata": {
    "id": "jkSjyjcO3dki"
   },
   "outputs": [],
   "source": [
    "class Knight(Warrior):\n",
    "    def __init__(self):\n",
    "        self.health = 50\n",
    "        self.attack = 55"
   ]
  },
  {
   "cell_type": "code",
   "execution_count": 84,
   "metadata": {
    "id": "3nbnq2F64KHs"
   },
   "outputs": [],
   "source": [
    "def fight(knight, warrior):\n",
    "    knight.health = knight.health - warrior.attack\n",
    "    print(\"Knight\")\n",
    "    knight.is_alive()\n",
    "    print(\"Warrior\")\n",
    "    warrior.is_alive()\n",
    "    if knight.health > 0:\n",
    "        warrior.health = warrior.health - knight.attack\n",
    "        print(\"Knight\") \n",
    "        knight.is_alive()\n",
    "        print(\"Warrior\")\n",
    "        warrior.is_alive()"
   ]
  },
  {
   "cell_type": "code",
   "execution_count": 85,
   "metadata": {
    "id": "t3JrMH_h5Zdf"
   },
   "outputs": [],
   "source": [
    "santiago = Warrior(75)\n",
    "Arthur = Knight()\n",
    "\n",
    "#fight(santiago, Arthur)"
   ]
  },
  {
   "cell_type": "code",
   "execution_count": 86,
   "metadata": {
    "colab": {
     "base_uri": "https://localhost:8080/",
     "height": 153
    },
    "executionInfo": {
     "elapsed": 400,
     "status": "ok",
     "timestamp": 1601419645952,
     "user": {
      "displayName": "Diego Useche Reyes",
      "photoUrl": "https://lh3.googleusercontent.com/a-/AOh14Gg6lrk9agmplTKK54rGVqavR8_tM4odcJqDil2B2w=s64",
      "userId": "02270832771774592167"
     },
     "user_tz": 300
    },
    "id": "fyT92W6f5mey",
    "outputId": "50d31247-dc1c-414e-9f85-5ebb25e657eb"
   },
   "outputs": [
    {
     "name": "stdout",
     "output_type": "stream",
     "text": [
      "Knight\n",
      "is dead\n",
      "Warrior\n",
      "is alive\n"
     ]
    }
   ],
   "source": [
    "fight(Arthur, santiago)"
   ]
  },
  {
   "cell_type": "code",
   "execution_count": null,
   "metadata": {
    "id": "Wu3QHFWT5qGy"
   },
   "outputs": [],
   "source": []
  }
 ],
 "metadata": {
  "colab": {
   "authorship_tag": "ABX9TyPVrZqjgAH8S+f8nPY0yeAg",
   "name": "python3-ObjectOrientedProgramming.ipynb",
   "provenance": []
  },
  "kernelspec": {
   "display_name": "Python 3",
   "language": "python",
   "name": "python3"
  },
  "language_info": {
   "codemirror_mode": {
    "name": "ipython",
    "version": 3
   },
   "file_extension": ".py",
   "mimetype": "text/x-python",
   "name": "python",
   "nbconvert_exporter": "python",
   "pygments_lexer": "ipython3",
   "version": "3.8.10"
  }
 },
 "nbformat": 4,
 "nbformat_minor": 1
}
